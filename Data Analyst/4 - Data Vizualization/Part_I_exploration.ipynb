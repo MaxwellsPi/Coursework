{
 "cells": [
  {
   "cell_type": "markdown",
   "metadata": {},
   "source": [
    "# Part I - Prosper Loan Data\n",
    "## by Edgar Palacios\n",
    "\n",
    "## Introduction\n",
    "> This document explores a data set from Propser that contains 113,937 loans and attributes.\n",
    "\n",
    "\n",
    "## Preliminary Wrangling\n"
   ]
  },
  {
   "cell_type": "code",
   "execution_count": 1,
   "metadata": {},
   "outputs": [],
   "source": [
    "# import all packages and set plots to be embedded inline\n",
    "import numpy as np\n",
    "import pandas as pd\n",
    "import matplotlib.pyplot as plt\n",
    "import seaborn as sb\n",
    "\n",
    "%matplotlib inline"
   ]
  },
  {
   "cell_type": "code",
   "execution_count": 2,
   "metadata": {},
   "outputs": [],
   "source": [
    "import warnings\n",
    "warnings.filterwarnings('ignore')"
   ]
  },
  {
   "cell_type": "markdown",
   "metadata": {},
   "source": [
    "> Load in your dataset and describe its properties through the questions below. Try and motivate your exploration goals through this section.\n"
   ]
  },
  {
   "cell_type": "code",
   "execution_count": 3,
   "metadata": {},
   "outputs": [],
   "source": [
    "# Load dataset in df\n",
    "df = pd.read_csv('prosperLoanData.csv')"
   ]
  },
  {
   "cell_type": "code",
   "execution_count": 4,
   "metadata": {},
   "outputs": [
    {
     "data": {
      "text/plain": [
       "(113937, 81)"
      ]
     },
     "execution_count": 4,
     "metadata": {},
     "output_type": "execute_result"
    }
   ],
   "source": [
    "df.shape"
   ]
  },
  {
   "cell_type": "code",
   "execution_count": 5,
   "metadata": {},
   "outputs": [
    {
     "name": "stdout",
     "output_type": "stream",
     "text": [
      "<class 'pandas.core.frame.DataFrame'>\n",
      "RangeIndex: 113937 entries, 0 to 113936\n",
      "Data columns (total 81 columns):\n",
      "ListingKey                             113937 non-null object\n",
      "ListingNumber                          113937 non-null int64\n",
      "ListingCreationDate                    113937 non-null object\n",
      "CreditGrade                            28953 non-null object\n",
      "Term                                   113937 non-null int64\n",
      "LoanStatus                             113937 non-null object\n",
      "ClosedDate                             55089 non-null object\n",
      "BorrowerAPR                            113912 non-null float64\n",
      "BorrowerRate                           113937 non-null float64\n",
      "LenderYield                            113937 non-null float64\n",
      "EstimatedEffectiveYield                84853 non-null float64\n",
      "EstimatedLoss                          84853 non-null float64\n",
      "EstimatedReturn                        84853 non-null float64\n",
      "ProsperRating (numeric)                84853 non-null float64\n",
      "ProsperRating (Alpha)                  84853 non-null object\n",
      "ProsperScore                           84853 non-null float64\n",
      "ListingCategory (numeric)              113937 non-null int64\n",
      "BorrowerState                          108422 non-null object\n",
      "Occupation                             110349 non-null object\n",
      "EmploymentStatus                       111682 non-null object\n",
      "EmploymentStatusDuration               106312 non-null float64\n",
      "IsBorrowerHomeowner                    113937 non-null bool\n",
      "CurrentlyInGroup                       113937 non-null bool\n",
      "GroupKey                               13341 non-null object\n",
      "DateCreditPulled                       113937 non-null object\n",
      "CreditScoreRangeLower                  113346 non-null float64\n",
      "CreditScoreRangeUpper                  113346 non-null float64\n",
      "FirstRecordedCreditLine                113240 non-null object\n",
      "CurrentCreditLines                     106333 non-null float64\n",
      "OpenCreditLines                        106333 non-null float64\n",
      "TotalCreditLinespast7years             113240 non-null float64\n",
      "OpenRevolvingAccounts                  113937 non-null int64\n",
      "OpenRevolvingMonthlyPayment            113937 non-null float64\n",
      "InquiriesLast6Months                   113240 non-null float64\n",
      "TotalInquiries                         112778 non-null float64\n",
      "CurrentDelinquencies                   113240 non-null float64\n",
      "AmountDelinquent                       106315 non-null float64\n",
      "DelinquenciesLast7Years                112947 non-null float64\n",
      "PublicRecordsLast10Years               113240 non-null float64\n",
      "PublicRecordsLast12Months              106333 non-null float64\n",
      "RevolvingCreditBalance                 106333 non-null float64\n",
      "BankcardUtilization                    106333 non-null float64\n",
      "AvailableBankcardCredit                106393 non-null float64\n",
      "TotalTrades                            106393 non-null float64\n",
      "TradesNeverDelinquent (percentage)     106393 non-null float64\n",
      "TradesOpenedLast6Months                106393 non-null float64\n",
      "DebtToIncomeRatio                      105383 non-null float64\n",
      "IncomeRange                            113937 non-null object\n",
      "IncomeVerifiable                       113937 non-null bool\n",
      "StatedMonthlyIncome                    113937 non-null float64\n",
      "LoanKey                                113937 non-null object\n",
      "TotalProsperLoans                      22085 non-null float64\n",
      "TotalProsperPaymentsBilled             22085 non-null float64\n",
      "OnTimeProsperPayments                  22085 non-null float64\n",
      "ProsperPaymentsLessThanOneMonthLate    22085 non-null float64\n",
      "ProsperPaymentsOneMonthPlusLate        22085 non-null float64\n",
      "ProsperPrincipalBorrowed               22085 non-null float64\n",
      "ProsperPrincipalOutstanding            22085 non-null float64\n",
      "ScorexChangeAtTimeOfListing            18928 non-null float64\n",
      "LoanCurrentDaysDelinquent              113937 non-null int64\n",
      "LoanFirstDefaultedCycleNumber          16952 non-null float64\n",
      "LoanMonthsSinceOrigination             113937 non-null int64\n",
      "LoanNumber                             113937 non-null int64\n",
      "LoanOriginalAmount                     113937 non-null int64\n",
      "LoanOriginationDate                    113937 non-null object\n",
      "LoanOriginationQuarter                 113937 non-null object\n",
      "MemberKey                              113937 non-null object\n",
      "MonthlyLoanPayment                     113937 non-null float64\n",
      "LP_CustomerPayments                    113937 non-null float64\n",
      "LP_CustomerPrincipalPayments           113937 non-null float64\n",
      "LP_InterestandFees                     113937 non-null float64\n",
      "LP_ServiceFees                         113937 non-null float64\n",
      "LP_CollectionFees                      113937 non-null float64\n",
      "LP_GrossPrincipalLoss                  113937 non-null float64\n",
      "LP_NetPrincipalLoss                    113937 non-null float64\n",
      "LP_NonPrincipalRecoverypayments        113937 non-null float64\n",
      "PercentFunded                          113937 non-null float64\n",
      "Recommendations                        113937 non-null int64\n",
      "InvestmentFromFriendsCount             113937 non-null int64\n",
      "InvestmentFromFriendsAmount            113937 non-null float64\n",
      "Investors                              113937 non-null int64\n",
      "dtypes: bool(3), float64(50), int64(11), object(17)\n",
      "memory usage: 68.1+ MB\n"
     ]
    }
   ],
   "source": [
    "df.info()"
   ]
  },
  {
   "cell_type": "code",
   "execution_count": 6,
   "metadata": {},
   "outputs": [
    {
     "data": {
      "text/plain": [
       "ListingKey                             False\n",
       "ListingNumber                          False\n",
       "ListingCreationDate                    False\n",
       "CreditGrade                             True\n",
       "Term                                   False\n",
       "LoanStatus                             False\n",
       "ClosedDate                              True\n",
       "BorrowerAPR                             True\n",
       "BorrowerRate                           False\n",
       "LenderYield                            False\n",
       "EstimatedEffectiveYield                 True\n",
       "EstimatedLoss                           True\n",
       "EstimatedReturn                         True\n",
       "ProsperRating (numeric)                 True\n",
       "ProsperRating (Alpha)                   True\n",
       "ProsperScore                            True\n",
       "ListingCategory (numeric)              False\n",
       "BorrowerState                           True\n",
       "Occupation                              True\n",
       "EmploymentStatus                        True\n",
       "EmploymentStatusDuration                True\n",
       "IsBorrowerHomeowner                    False\n",
       "CurrentlyInGroup                       False\n",
       "GroupKey                                True\n",
       "DateCreditPulled                       False\n",
       "CreditScoreRangeLower                   True\n",
       "CreditScoreRangeUpper                   True\n",
       "FirstRecordedCreditLine                 True\n",
       "CurrentCreditLines                      True\n",
       "OpenCreditLines                         True\n",
       "                                       ...  \n",
       "TotalProsperLoans                       True\n",
       "TotalProsperPaymentsBilled              True\n",
       "OnTimeProsperPayments                   True\n",
       "ProsperPaymentsLessThanOneMonthLate     True\n",
       "ProsperPaymentsOneMonthPlusLate         True\n",
       "ProsperPrincipalBorrowed                True\n",
       "ProsperPrincipalOutstanding             True\n",
       "ScorexChangeAtTimeOfListing             True\n",
       "LoanCurrentDaysDelinquent              False\n",
       "LoanFirstDefaultedCycleNumber           True\n",
       "LoanMonthsSinceOrigination             False\n",
       "LoanNumber                             False\n",
       "LoanOriginalAmount                     False\n",
       "LoanOriginationDate                    False\n",
       "LoanOriginationQuarter                 False\n",
       "MemberKey                              False\n",
       "MonthlyLoanPayment                     False\n",
       "LP_CustomerPayments                    False\n",
       "LP_CustomerPrincipalPayments           False\n",
       "LP_InterestandFees                     False\n",
       "LP_ServiceFees                         False\n",
       "LP_CollectionFees                      False\n",
       "LP_GrossPrincipalLoss                  False\n",
       "LP_NetPrincipalLoss                    False\n",
       "LP_NonPrincipalRecoverypayments        False\n",
       "PercentFunded                          False\n",
       "Recommendations                        False\n",
       "InvestmentFromFriendsCount             False\n",
       "InvestmentFromFriendsAmount            False\n",
       "Investors                              False\n",
       "Length: 81, dtype: bool"
      ]
     },
     "execution_count": 6,
     "metadata": {},
     "output_type": "execute_result"
    }
   ],
   "source": [
    "df.isna().any()"
   ]
  },
  {
   "cell_type": "markdown",
   "metadata": {},
   "source": [
    "### Explore Credit Grade"
   ]
  },
  {
   "cell_type": "code",
   "execution_count": 7,
   "metadata": {},
   "outputs": [
    {
     "data": {
      "text/plain": [
       "array(['C', nan, 'HR', 'AA', 'D', 'B', 'E', 'A', 'NC'], dtype=object)"
      ]
     },
     "execution_count": 7,
     "metadata": {},
     "output_type": "execute_result"
    }
   ],
   "source": [
    "df.CreditGrade.unique()"
   ]
  },
  {
   "cell_type": "code",
   "execution_count": 8,
   "metadata": {},
   "outputs": [
    {
     "data": {
      "text/plain": [
       "True     0.745886\n",
       "False    0.254114\n",
       "Name: CreditGrade, dtype: float64"
      ]
     },
     "execution_count": 8,
     "metadata": {},
     "output_type": "execute_result"
    }
   ],
   "source": [
    "df.CreditGrade.isna().value_counts(normalize=True)"
   ]
  },
  {
   "cell_type": "code",
   "execution_count": 9,
   "metadata": {},
   "outputs": [
    {
     "data": {
      "text/plain": [
       "C     5649\n",
       "D     5153\n",
       "B     4389\n",
       "AA    3509\n",
       "HR    3508\n",
       "A     3315\n",
       "E     3289\n",
       "NC     141\n",
       "Name: CreditGrade, dtype: int64"
      ]
     },
     "execution_count": 9,
     "metadata": {},
     "output_type": "execute_result"
    }
   ],
   "source": [
    "df.CreditGrade.value_counts()"
   ]
  },
  {
   "cell_type": "markdown",
   "metadata": {},
   "source": [
    "### Explore Loan Status"
   ]
  },
  {
   "cell_type": "code",
   "execution_count": 10,
   "metadata": {},
   "outputs": [
    {
     "data": {
      "text/plain": [
       "array(['Completed', 'Current', 'Past Due (1-15 days)', 'Defaulted',\n",
       "       'Chargedoff', 'Past Due (16-30 days)', 'Cancelled',\n",
       "       'Past Due (61-90 days)', 'Past Due (31-60 days)',\n",
       "       'Past Due (91-120 days)', 'FinalPaymentInProgress',\n",
       "       'Past Due (>120 days)'], dtype=object)"
      ]
     },
     "execution_count": 10,
     "metadata": {},
     "output_type": "execute_result"
    }
   ],
   "source": [
    "df.LoanStatus.unique()"
   ]
  },
  {
   "cell_type": "code",
   "execution_count": 11,
   "metadata": {},
   "outputs": [
    {
     "data": {
      "text/plain": [
       "Current                   56576\n",
       "Completed                 38074\n",
       "Chargedoff                11992\n",
       "Defaulted                  5018\n",
       "Past Due (1-15 days)        806\n",
       "Past Due (31-60 days)       363\n",
       "Past Due (61-90 days)       313\n",
       "Past Due (91-120 days)      304\n",
       "Past Due (16-30 days)       265\n",
       "FinalPaymentInProgress      205\n",
       "Past Due (>120 days)         16\n",
       "Cancelled                     5\n",
       "Name: LoanStatus, dtype: int64"
      ]
     },
     "execution_count": 11,
     "metadata": {},
     "output_type": "execute_result"
    }
   ],
   "source": [
    "df.LoanStatus.value_counts()"
   ]
  },
  {
   "cell_type": "markdown",
   "metadata": {},
   "source": [
    "### Explore Numeric Prosper Rating"
   ]
  },
  {
   "cell_type": "code",
   "execution_count": 12,
   "metadata": {},
   "outputs": [
    {
     "data": {
      "text/plain": [
       "array([ nan,   6.,   3.,   5.,   2.,   4.,   7.,   1.])"
      ]
     },
     "execution_count": 12,
     "metadata": {},
     "output_type": "execute_result"
    }
   ],
   "source": [
    "df['ProsperRating (numeric)'].unique()"
   ]
  },
  {
   "cell_type": "code",
   "execution_count": 13,
   "metadata": {},
   "outputs": [
    {
     "data": {
      "text/plain": [
       "False    0.744736\n",
       "True     0.255264\n",
       "Name: ProsperRating (numeric), dtype: float64"
      ]
     },
     "execution_count": 13,
     "metadata": {},
     "output_type": "execute_result"
    }
   ],
   "source": [
    "df['ProsperRating (numeric)'].isna().value_counts(normalize=True)"
   ]
  },
  {
   "cell_type": "code",
   "execution_count": 14,
   "metadata": {},
   "outputs": [
    {
     "data": {
      "text/plain": [
       "4.0    18345\n",
       "5.0    15581\n",
       "6.0    14551\n",
       "3.0    14274\n",
       "2.0     9795\n",
       "1.0     6935\n",
       "7.0     5372\n",
       "Name: ProsperRating (numeric), dtype: int64"
      ]
     },
     "execution_count": 14,
     "metadata": {},
     "output_type": "execute_result"
    }
   ],
   "source": [
    "df['ProsperRating (numeric)'].value_counts()"
   ]
  },
  {
   "cell_type": "markdown",
   "metadata": {},
   "source": [
    "### Explore Alpha Prosper Rating"
   ]
  },
  {
   "cell_type": "code",
   "execution_count": 15,
   "metadata": {},
   "outputs": [
    {
     "data": {
      "text/plain": [
       "array([nan, 'A', 'D', 'B', 'E', 'C', 'AA', 'HR'], dtype=object)"
      ]
     },
     "execution_count": 15,
     "metadata": {},
     "output_type": "execute_result"
    }
   ],
   "source": [
    "df['ProsperRating (Alpha)'].unique()"
   ]
  },
  {
   "cell_type": "code",
   "execution_count": 16,
   "metadata": {},
   "outputs": [
    {
     "data": {
      "text/plain": [
       "False    0.744736\n",
       "True     0.255264\n",
       "Name: ProsperRating (Alpha), dtype: float64"
      ]
     },
     "execution_count": 16,
     "metadata": {},
     "output_type": "execute_result"
    }
   ],
   "source": [
    "df['ProsperRating (Alpha)'].isna().value_counts(normalize=True)"
   ]
  },
  {
   "cell_type": "code",
   "execution_count": 17,
   "metadata": {},
   "outputs": [
    {
     "data": {
      "text/plain": [
       "A     14551\n",
       "AA     5372\n",
       "B     15581\n",
       "C     18345\n",
       "D     14274\n",
       "E      9795\n",
       "HR     6935\n",
       "Name: ProsperRating (Alpha), dtype: int64"
      ]
     },
     "execution_count": 17,
     "metadata": {},
     "output_type": "execute_result"
    }
   ],
   "source": [
    "df['ProsperRating (Alpha)'].value_counts().sort_index()"
   ]
  },
  {
   "cell_type": "markdown",
   "metadata": {},
   "source": [
    "## Explore Debt to Income Ratio"
   ]
  },
  {
   "cell_type": "code",
   "execution_count": 18,
   "metadata": {},
   "outputs": [
    {
     "data": {
      "text/plain": [
       "count    105383.000000\n",
       "mean          0.275947\n",
       "std           0.551759\n",
       "min           0.000000\n",
       "25%           0.140000\n",
       "50%           0.220000\n",
       "75%           0.320000\n",
       "max          10.010000\n",
       "Name: DebtToIncomeRatio, dtype: float64"
      ]
     },
     "execution_count": 18,
     "metadata": {},
     "output_type": "execute_result"
    }
   ],
   "source": [
    "df.DebtToIncomeRatio.describe()"
   ]
  },
  {
   "cell_type": "code",
   "execution_count": 19,
   "metadata": {},
   "outputs": [
    {
     "data": {
      "text/plain": [
       "False    0.924923\n",
       "True     0.075077\n",
       "Name: DebtToIncomeRatio, dtype: float64"
      ]
     },
     "execution_count": 19,
     "metadata": {},
     "output_type": "execute_result"
    }
   ],
   "source": [
    "df.DebtToIncomeRatio.isna().value_counts(normalize=True)"
   ]
  },
  {
   "cell_type": "markdown",
   "metadata": {},
   "source": [
    "## Explore Open Monthly Payment"
   ]
  },
  {
   "cell_type": "code",
   "execution_count": 20,
   "metadata": {},
   "outputs": [
    {
     "data": {
      "text/plain": [
       "count    113937.000000\n",
       "mean        398.292161\n",
       "std         447.159711\n",
       "min           0.000000\n",
       "25%         114.000000\n",
       "50%         271.000000\n",
       "75%         525.000000\n",
       "max       14985.000000\n",
       "Name: OpenRevolvingMonthlyPayment, dtype: float64"
      ]
     },
     "execution_count": 20,
     "metadata": {},
     "output_type": "execute_result"
    }
   ],
   "source": [
    "df.OpenRevolvingMonthlyPayment.describe()"
   ]
  },
  {
   "cell_type": "code",
   "execution_count": 21,
   "metadata": {},
   "outputs": [
    {
     "data": {
      "text/plain": [
       "False"
      ]
     },
     "execution_count": 21,
     "metadata": {},
     "output_type": "execute_result"
    }
   ],
   "source": [
    "df.OpenRevolvingMonthlyPayment.isna().any()"
   ]
  },
  {
   "cell_type": "markdown",
   "metadata": {},
   "source": [
    "### Clean Data"
   ]
  },
  {
   "cell_type": "code",
   "execution_count": 22,
   "metadata": {},
   "outputs": [],
   "source": [
    "# Drop nans in columns of interest\n",
    "#df_new.dropna(axis=0, subset=['CreditGrade','DebtToIncomeRatio'], inplace=True)\n",
    "#df_new.reset_index(inplace=True)"
   ]
  },
  {
   "cell_type": "code",
   "execution_count": 23,
   "metadata": {},
   "outputs": [],
   "source": [
    "# Check for nans in columns of interest\n",
    "#df_new[['CreditGrade','DebtToIncomeRatio','ProsperRating (numeric)']].isna().any()"
   ]
  },
  {
   "cell_type": "markdown",
   "metadata": {},
   "source": [
    "## Convert Datatypes"
   ]
  },
  {
   "cell_type": "code",
   "execution_count": 24,
   "metadata": {},
   "outputs": [],
   "source": [
    "ordinal_var_dict = {'CreditGrade': ['AA','A','B','C','D','E','HR'],\n",
    "                    'ProsperRating (numeric)': [1,2,3,4,5,6,7],\n",
    "                    'ProsperRating (Alpha)': ['AA','A','B','C','D','E','HR']}\n",
    "\n",
    "for var in ordinal_var_dict:\n",
    "    ordered_var = pd.api.types.CategoricalDtype(ordered = True,\n",
    "                                                categories = ordinal_var_dict[var])\n",
    "    df[var] = df[var].astype(ordered_var)"
   ]
  },
  {
   "cell_type": "code",
   "execution_count": 25,
   "metadata": {},
   "outputs": [
    {
     "data": {
      "text/plain": [
       "ListingKey                               object\n",
       "ListingNumber                             int64\n",
       "ListingCreationDate                      object\n",
       "CreditGrade                            category\n",
       "Term                                      int64\n",
       "LoanStatus                               object\n",
       "ClosedDate                               object\n",
       "BorrowerAPR                             float64\n",
       "BorrowerRate                            float64\n",
       "LenderYield                             float64\n",
       "EstimatedEffectiveYield                 float64\n",
       "EstimatedLoss                           float64\n",
       "EstimatedReturn                         float64\n",
       "ProsperRating (numeric)                category\n",
       "ProsperRating (Alpha)                  category\n",
       "ProsperScore                            float64\n",
       "ListingCategory (numeric)                 int64\n",
       "BorrowerState                            object\n",
       "Occupation                               object\n",
       "EmploymentStatus                         object\n",
       "EmploymentStatusDuration                float64\n",
       "IsBorrowerHomeowner                        bool\n",
       "CurrentlyInGroup                           bool\n",
       "GroupKey                                 object\n",
       "DateCreditPulled                         object\n",
       "CreditScoreRangeLower                   float64\n",
       "CreditScoreRangeUpper                   float64\n",
       "FirstRecordedCreditLine                  object\n",
       "CurrentCreditLines                      float64\n",
       "OpenCreditLines                         float64\n",
       "                                         ...   \n",
       "TotalProsperLoans                       float64\n",
       "TotalProsperPaymentsBilled              float64\n",
       "OnTimeProsperPayments                   float64\n",
       "ProsperPaymentsLessThanOneMonthLate     float64\n",
       "ProsperPaymentsOneMonthPlusLate         float64\n",
       "ProsperPrincipalBorrowed                float64\n",
       "ProsperPrincipalOutstanding             float64\n",
       "ScorexChangeAtTimeOfListing             float64\n",
       "LoanCurrentDaysDelinquent                 int64\n",
       "LoanFirstDefaultedCycleNumber           float64\n",
       "LoanMonthsSinceOrigination                int64\n",
       "LoanNumber                                int64\n",
       "LoanOriginalAmount                        int64\n",
       "LoanOriginationDate                      object\n",
       "LoanOriginationQuarter                   object\n",
       "MemberKey                                object\n",
       "MonthlyLoanPayment                      float64\n",
       "LP_CustomerPayments                     float64\n",
       "LP_CustomerPrincipalPayments            float64\n",
       "LP_InterestandFees                      float64\n",
       "LP_ServiceFees                          float64\n",
       "LP_CollectionFees                       float64\n",
       "LP_GrossPrincipalLoss                   float64\n",
       "LP_NetPrincipalLoss                     float64\n",
       "LP_NonPrincipalRecoverypayments         float64\n",
       "PercentFunded                           float64\n",
       "Recommendations                           int64\n",
       "InvestmentFromFriendsCount                int64\n",
       "InvestmentFromFriendsAmount             float64\n",
       "Investors                                 int64\n",
       "Length: 81, dtype: object"
      ]
     },
     "execution_count": 25,
     "metadata": {},
     "output_type": "execute_result"
    }
   ],
   "source": [
    "df.dtypes"
   ]
  },
  {
   "cell_type": "code",
   "execution_count": 26,
   "metadata": {},
   "outputs": [],
   "source": [
    "df_new = df.copy()"
   ]
  },
  {
   "cell_type": "markdown",
   "metadata": {},
   "source": [
    "### What is the structure of your dataset?\n",
    "\n",
    "> This data set contains 113,937 loans with 81 variables on each loan.\n",
    "\n",
    "### What is/are the main feature(s) of interest in your dataset?\n",
    "\n",
    "> I'm most interested in identifying the best features for predicting customers that will default on their loan.\n",
    "\n",
    "### What features in the dataset do you think will help support your investigation into your feature(s) of interest?\n",
    "\n",
    "> I expect that credit rating (credit grade, propser ratings) and personal financial health metrics such as debt-to-income ratio, open monthly payments and bank card utilization."
   ]
  },
  {
   "cell_type": "markdown",
   "metadata": {},
   "source": [
    "## Univariate Exploration\n",
    "\n",
    "> In this section, investigate distributions of individual variables. If\n",
    "you see unusual points or outliers, take a deeper look to clean things up\n",
    "and prepare yourself to look at relationships between variables.\n",
    "\n",
    "\n",
    "> **Rubric Tip**: The project (Parts I alone) should have at least 15 visualizations distributed over univariate, bivariate, and multivariate plots to explore many relationships in the data set.  Use reasoning to justify the flow of the exploration.\n",
    "\n",
    "\n",
    "\n",
    ">**Rubric Tip**: Use the \"Question-Visualization-Observations\" framework  throughout the exploration. This framework involves **asking a question from the data, creating a visualization to find answers, and then recording observations after each visualisation.** \n"
   ]
  },
  {
   "cell_type": "markdown",
   "metadata": {},
   "source": [
    "### What is the proportion of loans that have defaulted?\n",
    "This bar plot will give us an general idea of the proportion of loans that have defaulted."
   ]
  },
  {
   "cell_type": "code",
   "execution_count": 27,
   "metadata": {},
   "outputs": [
    {
     "data": {
      "text/plain": [
       "array(['Completed', 'Current', 'Past Due (1-15 days)', 'Defaulted',\n",
       "       'Chargedoff', 'Past Due (16-30 days)', 'Cancelled',\n",
       "       'Past Due (61-90 days)', 'Past Due (31-60 days)',\n",
       "       'Past Due (91-120 days)', 'FinalPaymentInProgress',\n",
       "       'Past Due (>120 days)'], dtype=object)"
      ]
     },
     "execution_count": 27,
     "metadata": {},
     "output_type": "execute_result"
    }
   ],
   "source": [
    "df.LoanStatus.unique()"
   ]
  },
  {
   "cell_type": "code",
   "execution_count": 28,
   "metadata": {},
   "outputs": [
    {
     "data": {
      "image/png": "[encoded data removed]",
      "text/plain": [
       "<matplotlib.figure.Figure at 0x7f0d9c3d4a58>"
      ]
     },
     "metadata": {
      "needs_background": "light"
     },
     "output_type": "display_data"
    }
   ],
   "source": [
    "counts = df.LoanStatus.value_counts().index\n",
    "sb.countplot(data=df, y='LoanStatus', \n",
    "             order=counts, color = sb.color_palette()[0])\n",
    "plt.title('Distribution of Loan Status');"
   ]
  },
  {
   "cell_type": "markdown",
   "metadata": {},
   "source": [
    ">Since the majority of counts come from 4 out of 12 categories of loan statuses another plot is created focusing on the top 4.  This will allow for improved visualization of the defaulted category."
   ]
  },
  {
   "cell_type": "code",
   "execution_count": 29,
   "metadata": {},
   "outputs": [],
   "source": [
    "col_vars = ['Completed','Chargedoff','Defaulted','Cancelled']\n",
    "status_df = df[df.LoanStatus.isin(col_vars)]"
   ]
  },
  {
   "cell_type": "code",
   "execution_count": 30,
   "metadata": {},
   "outputs": [
    {
     "data": {
      "text/plain": [
       "Completed     0.691136\n",
       "Chargedoff    0.217684\n",
       "Defaulted     0.091089\n",
       "Cancelled     0.000091\n",
       "Name: LoanStatus, dtype: float64"
      ]
     },
     "execution_count": 30,
     "metadata": {},
     "output_type": "execute_result"
    }
   ],
   "source": [
    "status_df.LoanStatus.value_counts(normalize=True)"
   ]
  },
  {
   "cell_type": "code",
   "execution_count": 31,
   "metadata": {},
   "outputs": [],
   "source": [
    "def annotate_bars(counts):\n",
    "    # This function adds counts to each bar in a bar plot\n",
    "    \n",
    "    # Logic to print value on each bar\n",
    "    for i in range(counts.shape[0]):\n",
    "        count = counts[i]\n",
    "        plt.text(i, count-200, count, ha = 'center', va='top', color='w')"
   ]
  },
  {
   "cell_type": "code",
   "execution_count": 32,
   "metadata": {},
   "outputs": [
    {
     "data": {
      "image/png": "[encoded data removed]",
      "text/plain": [
       "<matplotlib.figure.Figure at 0x7f0d9e2bd668>"
      ]
     },
     "metadata": {
      "needs_background": "light"
     },
     "output_type": "display_data"
    }
   ],
   "source": [
    "counts = status_df.LoanStatus.value_counts()\n",
    "\n",
    "status_df.LoanStatus.value_counts().plot(kind='bar', width=.75, \n",
    "                                         color = sb.color_palette()[0])\n",
    "plt.xticks(rotation=0)\n",
    "plt.xlabel('Loan Status')\n",
    "plt.ylabel('Counts')\n",
    "plt.title('Distribution of Loan Status');\n",
    "\n",
    "annotate_bars(counts)"
   ]
  },
  {
   "cell_type": "markdown",
   "metadata": {},
   "source": [
    "> The top four loan status categories include 'Completed','Chargedoff','Defaulted' and Cancelled.  Of all the loans provided, 69% were completed while 9.1% had defaulted."
   ]
  },
  {
   "cell_type": "markdown",
   "metadata": {},
   "source": [
    "### What is the distribution of credit grades amonst the loans?\n",
    "This visualization will give us a general idea of the distributions of credit grades."
   ]
  },
  {
   "cell_type": "code",
   "execution_count": 33,
   "metadata": {},
   "outputs": [],
   "source": [
    "counts = df.CreditGrade.value_counts().sort_index()"
   ]
  },
  {
   "cell_type": "code",
   "execution_count": 34,
   "metadata": {},
   "outputs": [
    {
     "data": {
      "image/png": "[encoded data removed]",
      "text/plain": [
       "<matplotlib.figure.Figure at 0x7f0d9f4da2b0>"
      ]
     },
     "metadata": {
      "needs_background": "light"
     },
     "output_type": "display_data"
    }
   ],
   "source": [
    "sb.countplot(data=df, x='CreditGrade', color = sb.color_palette()[0])\n",
    "plt.title('Distribution of Credit Grades');\n",
    "\n",
    "annotate_bars(counts)"
   ]
  },
  {
   "cell_type": "markdown",
   "metadata": {},
   "source": [
    "> The credit grade distribution is unimodal with a peak at grade 'C'. "
   ]
  },
  {
   "cell_type": "markdown",
   "metadata": {},
   "source": [
    "### What is distribution of Prosper Ratings?\n",
    "This visualization will give us a general idea of the prosper ratings distribution."
   ]
  },
  {
   "cell_type": "code",
   "execution_count": 35,
   "metadata": {},
   "outputs": [],
   "source": [
    "counts = df['ProsperRating (Alpha)'].value_counts()"
   ]
  },
  {
   "cell_type": "code",
   "execution_count": 36,
   "metadata": {},
   "outputs": [
    {
     "data": {
      "image/png": "[encoded data removed]",
      "text/plain": [
       "<matplotlib.figure.Figure at 0x7f0d9ef61160>"
      ]
     },
     "metadata": {
      "needs_background": "light"
     },
     "output_type": "display_data"
    }
   ],
   "source": [
    "sb.countplot(data=df, x='ProsperRating (Alpha)', color=sb.color_palette()[0])\n",
    "plt.title('Distribution of Prosper Ratings')\n",
    "\n",
    "annotate_bars(counts)"
   ]
  },
  {
   "cell_type": "markdown",
   "metadata": {},
   "source": [
    "> The distribution is different from the credit grade rating system.  Although the mode is the same (C), the distribution shows a positive skew. The change in counts from AA to A showed a sharp increase in counts potentially indicating that the loan applicant population with a AA credit grade is small."
   ]
  },
  {
   "cell_type": "markdown",
   "metadata": {},
   "source": [
    "### What is the distribution of Debt To Income (DTI) Ratio?\n",
    "This visualization will show the distribution of Debt-To-Income Ration among the entire dataset."
   ]
  },
  {
   "cell_type": "code",
   "execution_count": 37,
   "metadata": {},
   "outputs": [
    {
     "data": {
      "text/plain": [
       "False    0.924923\n",
       "True     0.075077\n",
       "Name: DebtToIncomeRatio, dtype: float64"
      ]
     },
     "execution_count": 37,
     "metadata": {},
     "output_type": "execute_result"
    }
   ],
   "source": [
    "# Check proportion of missing values\n",
    "df.DebtToIncomeRatio.isna().value_counts(normalize=True)"
   ]
  },
  {
   "cell_type": "code",
   "execution_count": 38,
   "metadata": {},
   "outputs": [],
   "source": [
    "dti_df = df.dropna(axis=0, subset=['DebtToIncomeRatio'])"
   ]
  },
  {
   "cell_type": "code",
   "execution_count": 39,
   "metadata": {},
   "outputs": [
    {
     "data": {
      "text/plain": [
       "count    105383.000000\n",
       "mean          0.275947\n",
       "std           0.551759\n",
       "min           0.000000\n",
       "25%           0.140000\n",
       "50%           0.220000\n",
       "75%           0.320000\n",
       "max          10.010000\n",
       "Name: DebtToIncomeRatio, dtype: float64"
      ]
     },
     "execution_count": 39,
     "metadata": {},
     "output_type": "execute_result"
    }
   ],
   "source": [
    "dti_df.DebtToIncomeRatio.describe()"
   ]
  },
  {
   "cell_type": "code",
   "execution_count": 40,
   "metadata": {},
   "outputs": [],
   "source": [
    "bins = np.arange(0, 2,.025)"
   ]
  },
  {
   "cell_type": "code",
   "execution_count": 41,
   "metadata": {},
   "outputs": [
    {
     "data": {
      "image/png": "[encoded data removed]",
      "text/plain": [
       "<matplotlib.figure.Figure at 0x7f0d9e15a898>"
      ]
     },
     "metadata": {
      "needs_background": "light"
     },
     "output_type": "display_data"
    }
   ],
   "source": [
    "plt.hist(data=dti_df, x='DebtToIncomeRatio', bins =bins)\n",
    "plt.xlim([0,1.5])\n",
    "plt.ylabel('Counts')\n",
    "plt.xlabel('Debt To Income Ratio')\n",
    "plt.title('Distribution of DTI Ratio');"
   ]
  },
  {
   "cell_type": "markdown",
   "metadata": {},
   "source": [
    "> Because the plot reveals a slight positive skew in Debt-To-Income (DTI) ratio, the data is plotted in log scale to explore distributions at higher DTI ratios. "
   ]
  },
  {
   "cell_type": "code",
   "execution_count": 42,
   "metadata": {},
   "outputs": [
    {
     "data": {
      "text/plain": [
       "count    5.022771\n",
       "mean    -0.559175\n",
       "std     -0.258251\n",
       "min          -inf\n",
       "25%     -0.853872\n",
       "50%     -0.657577\n",
       "75%     -0.494850\n",
       "max      1.000434\n",
       "Name: DebtToIncomeRatio, dtype: float64"
      ]
     },
     "execution_count": 42,
     "metadata": {},
     "output_type": "execute_result"
    }
   ],
   "source": [
    "np.log10(dti_df.DebtToIncomeRatio.describe())"
   ]
  },
  {
   "cell_type": "code",
   "execution_count": 43,
   "metadata": {},
   "outputs": [],
   "source": [
    "bins = 10**(np.arange(0.001,1,.025))\n",
    "\n",
    "xticks = np.logspace(0.001, 1, 5) # create a log space array from min - max of log10(DTI)\n",
    "xlabels = np.round_(np.log10(xticks),2).astype(str) # create xlabels"
   ]
  },
  {
   "cell_type": "code",
   "execution_count": 44,
   "metadata": {},
   "outputs": [
    {
     "data": {
      "image/png": "[encoded data removed]",
      "text/plain": [
       "<matplotlib.figure.Figure at 0x7f0d9e129b00>"
      ]
     },
     "metadata": {
      "needs_background": "light"
     },
     "output_type": "display_data"
    }
   ],
   "source": [
    "plt.hist(data=dti_df, x='DebtToIncomeRatio', bins = bins)\n",
    "plt.xscale('log')\n",
    "plt.xticks(xticks, xlabels)\n",
    "plt.ylabel('Counts')\n",
    "plt.xlabel('Debt To Income Ratio')\n",
    "plt.title('Distribution of DTI Ratio');"
   ]
  },
  {
   "cell_type": "markdown",
   "metadata": {},
   "source": [
    "> When plotted on a standard scale, the distribution appears unimodal with a large positive skew.  After plotting on a log scale, it does seem to be a better way of plotting the variable since it exaggerates the long DTI ratio tail. "
   ]
  },
  {
   "cell_type": "markdown",
   "metadata": {},
   "source": [
    "### What is the distribution of open revolving monthly payments (ORMP)?"
   ]
  },
  {
   "cell_type": "markdown",
   "metadata": {},
   "source": [
    "This following visualization will show the distribution of open revolving monthly payments."
   ]
  },
  {
   "cell_type": "code",
   "execution_count": 45,
   "metadata": {},
   "outputs": [
    {
     "data": {
      "text/plain": [
       "count    113937.000000\n",
       "mean        398.292161\n",
       "std         447.159711\n",
       "min           0.000000\n",
       "25%         114.000000\n",
       "50%         271.000000\n",
       "75%         525.000000\n",
       "max       14985.000000\n",
       "Name: OpenRevolvingMonthlyPayment, dtype: float64"
      ]
     },
     "execution_count": 45,
     "metadata": {},
     "output_type": "execute_result"
    }
   ],
   "source": [
    "df.OpenRevolvingMonthlyPayment.describe()"
   ]
  },
  {
   "cell_type": "code",
   "execution_count": 46,
   "metadata": {},
   "outputs": [],
   "source": [
    "bins = np.arange(0, 1500,50)"
   ]
  },
  {
   "cell_type": "code",
   "execution_count": 47,
   "metadata": {},
   "outputs": [
    {
     "data": {
      "image/png": "[encoded data removed]",
      "text/plain": [
       "<matplotlib.figure.Figure at 0x7f0d9e07b080>"
      ]
     },
     "metadata": {
      "needs_background": "light"
     },
     "output_type": "display_data"
    }
   ],
   "source": [
    "plt.hist(data=df, x='OpenRevolvingMonthlyPayment', bins = bins)\n",
    "plt.xlabel('Open Revolving Monthly Payment ($)')\n",
    "plt.title('Distribution of ORMP')\n",
    "plt.ylabel('Counts');"
   ]
  },
  {
   "cell_type": "markdown",
   "metadata": {},
   "source": [
    "> Because the plot reveals a large positive skew in open revolving monthly paymets (ORMP), the data is plotted in log scale to explore distributions at higher ORMPs."
   ]
  },
  {
   "cell_type": "code",
   "execution_count": 48,
   "metadata": {},
   "outputs": [
    {
     "data": {
      "text/plain": [
       "count    5.056665\n",
       "mean     2.600202\n",
       "std      2.650463\n",
       "min          -inf\n",
       "25%      2.056905\n",
       "50%      2.432969\n",
       "75%      2.720159\n",
       "max      4.175657\n",
       "Name: OpenRevolvingMonthlyPayment, dtype: float64"
      ]
     },
     "execution_count": 48,
     "metadata": {},
     "output_type": "execute_result"
    }
   ],
   "source": [
    "np.log10(df.OpenRevolvingMonthlyPayment.describe())"
   ]
  },
  {
   "cell_type": "code",
   "execution_count": 49,
   "metadata": {},
   "outputs": [],
   "source": [
    "bins = 10**(np.arange(0.001,4.8,.1))\n",
    "\n",
    "xticks = np.logspace(0.001, 4.8, 7)\n",
    "xlabels = xticks.astype(int)"
   ]
  },
  {
   "cell_type": "code",
   "execution_count": 50,
   "metadata": {},
   "outputs": [
    {
     "data": {
      "image/png": "[encoded data removed]",
      "text/plain": [
       "<matplotlib.figure.Figure at 0x7f0d9ddc3710>"
      ]
     },
     "metadata": {
      "needs_background": "light"
     },
     "output_type": "display_data"
    }
   ],
   "source": [
    "plt.hist(data=df, x='OpenRevolvingMonthlyPayment', bins = bins)\n",
    "plt.xlabel('Open Revolving Monthly Payment ($)')\n",
    "plt.ylabel('Counts')\n",
    "plt.title('Distribution of ORMP')\n",
    "plt.xscale('log')\n",
    "plt.xticks(xticks,xlabels);"
   ]
  },
  {
   "cell_type": "markdown",
   "metadata": {},
   "source": [
    "> When plotting a standard scale ORMP shows a strong positive skew.  Plotting on a log scale showed much more interpretable results.  The distribution exhibited a normal distribution centered at ~$400 with a slight negative skew."
   ]
  },
  {
   "cell_type": "markdown",
   "metadata": {},
   "source": [
    "### What is the distribution of Bank Card Utilization?\n",
    "The following visualizations explore distribution of bank card utilization since it is expected to have an impact on default."
   ]
  },
  {
   "cell_type": "code",
   "execution_count": 51,
   "metadata": {},
   "outputs": [
    {
     "data": {
      "text/plain": [
       "False    0.933261\n",
       "True     0.066739\n",
       "Name: BankcardUtilization, dtype: float64"
      ]
     },
     "execution_count": 51,
     "metadata": {},
     "output_type": "execute_result"
    }
   ],
   "source": [
    "#Check for missing values\n",
    "df.BankcardUtilization.isna().value_counts(normalize=True)"
   ]
  },
  {
   "cell_type": "code",
   "execution_count": 52,
   "metadata": {},
   "outputs": [],
   "source": [
    "#drop missing values\n",
    "bcu_df = df.dropna(subset=['BankcardUtilization'])"
   ]
  },
  {
   "cell_type": "code",
   "execution_count": 53,
   "metadata": {},
   "outputs": [
    {
     "data": {
      "image/png": "[encoded data removed]",
      "text/plain": [
       "<matplotlib.figure.Figure at 0x7f0d9de39d30>"
      ]
     },
     "metadata": {
      "needs_background": "light"
     },
     "output_type": "display_data"
    }
   ],
   "source": [
    "plt.hist(data=bcu_df, x='BankcardUtilization', bins=np.arange(0,6,.1))\n",
    "plt.xlabel('Bank Card Utilization')\n",
    "plt.ylabel('Counts')\n",
    "plt.title('Distribution of Bank Card Utilization');"
   ]
  },
  {
   "cell_type": "markdown",
   "metadata": {},
   "source": [
    "> Because the plot does not reveal a usual distribution the data is plotted in log scale."
   ]
  },
  {
   "cell_type": "code",
   "execution_count": 54,
   "metadata": {},
   "outputs": [
    {
     "data": {
      "text/plain": [
       "count    5.026668\n",
       "mean    -0.250798\n",
       "std     -0.497685\n",
       "min          -inf\n",
       "25%     -0.508638\n",
       "50%     -0.221849\n",
       "75%     -0.075721\n",
       "max      0.774517\n",
       "Name: BankcardUtilization, dtype: float64"
      ]
     },
     "execution_count": 54,
     "metadata": {},
     "output_type": "execute_result"
    }
   ],
   "source": [
    "np.log10(bcu_df.BankcardUtilization.describe())"
   ]
  },
  {
   "cell_type": "code",
   "execution_count": 55,
   "metadata": {},
   "outputs": [
    {
     "data": {
      "image/png": "[encoded data removed]",
      "text/plain": [
       "<matplotlib.figure.Figure at 0x7f0d9dfc8208>"
      ]
     },
     "metadata": {
      "needs_background": "light"
     },
     "output_type": "display_data"
    }
   ],
   "source": [
    "bins = 10**np.arange(0,.5,0.005)\n",
    "\n",
    "plt.hist(data=bcu_df, x='BankcardUtilization', bins=bins)\n",
    "plt.xscale('log')\n",
    "plt.xlabel('Bank Card Utilization')\n",
    "plt.ylabel('Counts')\n",
    "plt.title('Distribution of Bank Card Utilization');"
   ]
  },
  {
   "cell_type": "markdown",
   "metadata": {},
   "source": [
    "> When plotting on a standard scale the distribution was unusual.  On a log scale, however, the distribution is peaked near zero then falls off in a rapid asymptotic manner generating a long positive skew."
   ]
  },
  {
   "cell_type": "markdown",
   "metadata": {},
   "source": [
    "### Discuss the distribution(s) of your variable(s) of interest. Were there any unusual points? Did you need to perform any transformations?\n",
    "\n",
    "> - Top-Five loan status by counts were completed, chargedoff, defaulted and cancelled - respectively. \n",
    "- Prosper (alpha) and credit grade rating systems were similar.  Both exhibited unimodal distributions with a peak at a credit score of \"C\".  \n",
    "- Debt-To-Income Ratio showed positive skew with a peak at ~0.2.\n",
    "- Open revolving monthly payments shows a unimodal distribution with a negative skew appearing to be centered at ~$400.\n",
    "- Bank card utilization shows a long positive skew with peak near zero.\n",
    "\n",
    "### Of the features you investigated, were there any unusual distributions? Did you perform any operations on the data to tidy, adjust, or change the form of the data? If so, why did you do this?\n",
    "\n",
    "> - No unusual distributions were found.  \n",
    "- Operations conducted consisted of dropping rows with missing variables (Debt-To-Income Ratio) and limiting categories (Loan Status).\n",
    "- Transformations had to be included for ORMP.  "
   ]
  },
  {
   "cell_type": "markdown",
   "metadata": {},
   "source": [
    "## Bivariate Exploration"
   ]
  },
  {
   "cell_type": "markdown",
   "metadata": {},
   "source": [
    "### Bank Card Utilization\n",
    "Since credit ratings are important in determining credit worthiness the following visualizations explore the relationship between bank card utilization and two similar rating systems (credit grade and prosper rating (alpha))."
   ]
  },
  {
   "cell_type": "code",
   "execution_count": 56,
   "metadata": {},
   "outputs": [
    {
     "data": {
      "text/plain": [
       "False    0.933261\n",
       "True     0.066739\n",
       "Name: BankcardUtilization, dtype: float64"
      ]
     },
     "execution_count": 56,
     "metadata": {},
     "output_type": "execute_result"
    }
   ],
   "source": [
    "#Check for missing values\n",
    "df.BankcardUtilization.isna().value_counts(normalize=True)"
   ]
  },
  {
   "cell_type": "code",
   "execution_count": 57,
   "metadata": {},
   "outputs": [],
   "source": [
    "#drop missing values\n",
    "bcu_df = df.dropna(subset=['BankcardUtilization'])"
   ]
  },
  {
   "cell_type": "code",
   "execution_count": 58,
   "metadata": {},
   "outputs": [
    {
     "data": {
      "image/png": "[encoded data removed]",
      "text/plain": [
       "<matplotlib.figure.Figure at 0x7f0d9e1e4cc0>"
      ]
     },
     "metadata": {
      "needs_background": "light"
     },
     "output_type": "display_data"
    }
   ],
   "source": [
    "sb.pointplot(data=bcu_df, x='CreditGrade',y='BankcardUtilization')\n",
    "plt.ylabel('Mean Bank Card Utilization')\n",
    "plt.title('Bank Card Utilization per Credit Grades');"
   ]
  },
  {
   "cell_type": "code",
   "execution_count": 59,
   "metadata": {},
   "outputs": [
    {
     "data": {
      "image/png": "[encoded data removed]",
      "text/plain": [
       "<matplotlib.figure.Figure at 0x7f0d9e0590b8>"
      ]
     },
     "metadata": {
      "needs_background": "light"
     },
     "output_type": "display_data"
    }
   ],
   "source": [
    "sb.pointplot(data=bcu_df, x='ProsperRating (Alpha)',y='BankcardUtilization')\n",
    "plt.ylabel('Mean Bank Card Utilization')\n",
    "plt.title('Bank Card Utilization per Credit Grades');"
   ]
  },
  {
   "cell_type": "markdown",
   "metadata": {},
   "source": [
    "> The previous two visualizations show  slightly larger credit  utilization values when using credit grade as the rating system. In both cases, however, bank card utilization shows a positive correlation with lower credit ratings.  If higher credit ratings show lower bank card utilization does that somehow correlate to completion of defaulting of loans? To explore this loan status is plotted against bank card utilization."
   ]
  },
  {
   "cell_type": "code",
   "execution_count": 60,
   "metadata": {},
   "outputs": [],
   "source": [
    "bcu_new= bcu_df[bcu_df.LoanStatus.isin(col_vars)]"
   ]
  },
  {
   "cell_type": "code",
   "execution_count": 61,
   "metadata": {},
   "outputs": [
    {
     "data": {
      "image/png": "[encoded data removed]",
      "text/plain": [
       "<matplotlib.figure.Figure at 0x7f0d9e0fe6a0>"
      ]
     },
     "metadata": {
      "needs_background": "light"
     },
     "output_type": "display_data"
    }
   ],
   "source": [
    "sb.pointplot(data=bcu_new, x='LoanStatus',y='BankcardUtilization')\n",
    "plt.ylabel('Mean Bank Card Utilization')\n",
    "plt.title('Bank Card Utilization per Loan Status');"
   ]
  },
  {
   "cell_type": "markdown",
   "metadata": {},
   "source": [
    "> Interestingly, the mean bank card utilization of completed loans is above 50%.  This means completed loans must have been given to lower credit score holders.  This begs the question of what is the distribution of credit scores for each loan status?"
   ]
  },
  {
   "cell_type": "markdown",
   "metadata": {},
   "source": [
    "### How are credit scores distrubuted within each loan status category?"
   ]
  },
  {
   "cell_type": "markdown",
   "metadata": {},
   "source": [
    "The following visualization will compare two credit ratings systems (Credit grade and loan status) to analyze the distribution of credit scores within each loan status category. We start with using facet grids for Credit Grade."
   ]
  },
  {
   "cell_type": "code",
   "execution_count": 62,
   "metadata": {},
   "outputs": [
    {
     "data": {
      "image/png": "[encoded data removed]",
      "text/plain": [
       "<matplotlib.figure.Figure at 0x7f0d9e25d588>"
      ]
     },
     "metadata": {
      "needs_background": "light"
     },
     "output_type": "display_data"
    }
   ],
   "source": [
    "g = sb.FacetGrid(data=status_df, col='LoanStatus', sharey=True)\n",
    "g.map(sb.countplot,'CreditGrade')\n",
    "g.set_titles('{col_name}')\n",
    "g.fig.subplots_adjust(top=0.8)\n",
    "g.fig.suptitle('Distribution of Credit Grades per Loan Status');"
   ]
  },
  {
   "cell_type": "markdown",
   "metadata": {},
   "source": [
    ">Although the facet grid shows the distributions well, bringing the data together in a clustered bar may make it easier to compare categorical data."
   ]
  },
  {
   "cell_type": "code",
   "execution_count": 63,
   "metadata": {},
   "outputs": [
    {
     "data": {
      "image/png": "[encoded data removed]",
      "text/plain": [
       "<matplotlib.figure.Figure at 0x7f0d9d3414e0>"
      ]
     },
     "metadata": {
      "needs_background": "light"
     },
     "output_type": "display_data"
    }
   ],
   "source": [
    "sb.countplot(data=status_df, x='LoanStatus', hue='CreditGrade',\n",
    "             color=sb.color_palette()[0])\n",
    "plt.legend(title='Credit Grade',loc=1)\n",
    "plt.title('Distribution of Credit Grades per Loan Status');"
   ]
  },
  {
   "cell_type": "markdown",
   "metadata": {},
   "source": [
    "> Since the clustered bar chart is easier to interpret accurately the same visualization is created for the prosper ratings (alpha) to compare."
   ]
  },
  {
   "cell_type": "code",
   "execution_count": 64,
   "metadata": {},
   "outputs": [
    {
     "data": {
      "image/png": "[encoded data removed]",
      "text/plain": [
       "<matplotlib.figure.Figure at 0x7f0d9e0d1b38>"
      ]
     },
     "metadata": {
      "needs_background": "light"
     },
     "output_type": "display_data"
    }
   ],
   "source": [
    "sb.countplot(data=status_df, x='LoanStatus', hue='ProsperRating (Alpha)',\n",
    "             color=sb.color_palette()[0], order=col_vars)\n",
    "plt.legend(title='Prosper Rating (Alpha)',loc=1)\n",
    "plt.title('Distribution of Credit Grades per Prosper Rating');"
   ]
  },
  {
   "cell_type": "markdown",
   "metadata": {},
   "source": [
    "> In the completed category the counts trended lower with decreasing credit ratings.  However, for chargedoff and defaulted categories, the counts trended higher with decreasing rating."
   ]
  },
  {
   "cell_type": "markdown",
   "metadata": {},
   "source": [
    "### Does Loan status have an observable relationship to DTI ratio?\n",
    "DTI ratio is also a known factor in credit scores so the following visualization explores the mean values and confidence intervales of DTI ratio for each loan status category."
   ]
  },
  {
   "cell_type": "code",
   "execution_count": 65,
   "metadata": {},
   "outputs": [
    {
     "data": {
      "image/png": "[encoded data removed]",
      "text/plain": [
       "<matplotlib.figure.Figure at 0x7f0d9e0c1e10>"
      ]
     },
     "metadata": {
      "needs_background": "light"
     },
     "output_type": "display_data"
    }
   ],
   "source": [
    "sb.pointplot(data=status_df, x='LoanStatus',y='DebtToIncomeRatio', \n",
    "           color = sb.color_palette()[0])\n",
    "plt.xlabel('Loan Status')\n",
    "plt.ylabel('Debt-To-Income Ratio')\n",
    "plt.title('Mean DTI Ratios per Loan Status');"
   ]
  },
  {
   "cell_type": "markdown",
   "metadata": {},
   "source": [
    "> Since the pointplot only offers an aggregated value of DTI the distribution of DTI for each category is also explored."
   ]
  },
  {
   "cell_type": "code",
   "execution_count": 66,
   "metadata": {},
   "outputs": [
    {
     "data": {
      "image/png": "[encoded data removed]",
      "text/plain": [
       "<matplotlib.figure.Figure at 0x7f0d9df90908>"
      ]
     },
     "metadata": {
      "needs_background": "light"
     },
     "output_type": "display_data"
    }
   ],
   "source": [
    "bins = 10**(np.arange(0.001,1,.05))\n",
    "\n",
    "xticks = np.logspace(0.001, 1, 5) \n",
    "xlabels = np.round_(np.log10(xticks),2).astype(str)\n",
    "\n",
    "g = sb.FacetGrid(data=status_df, col='LoanStatus')\n",
    "g.map(plt.hist, 'DebtToIncomeRatio', bins=bins)\n",
    "g.set_titles('{col_name}')\n",
    "g.fig.subplots_adjust(top=0.8)\n",
    "g.fig.suptitle('Distribution of DTI Ratios per Loan Status')\n",
    "\n",
    "plt.xscale('log')\n",
    "plt.xticks(xticks,xlabels);\n"
   ]
  },
  {
   "cell_type": "markdown",
   "metadata": {},
   "source": [
    "> Mean DTI ratio was below 30% for completed loans whereas defaulted and charged off loans had mean DTI ratios above 30%."
   ]
  },
  {
   "cell_type": "markdown",
   "metadata": {},
   "source": [
    "### Does Loan status have an observable relationship to ORMP?\n",
    "Having a higher ORMP indicates higher financial burden so it is visualized against loan status to see if defaults or charge offs had higher ORMPs."
   ]
  },
  {
   "cell_type": "code",
   "execution_count": 67,
   "metadata": {},
   "outputs": [
    {
     "data": {
      "image/png": "[encoded data removed]",
      "text/plain": [
       "<matplotlib.figure.Figure at 0x7f0d9dec9208>"
      ]
     },
     "metadata": {
      "needs_background": "light"
     },
     "output_type": "display_data"
    }
   ],
   "source": [
    "sb.pointplot(data=status_df, x='LoanStatus', y='OpenRevolvingMonthlyPayment', \n",
    "           color=sb.color_palette()[0])\n",
    "plt.ylabel('Open Revolving Monthly Payment')\n",
    "plt.xlabel('Loan Status')\n",
    "plt.title('Mean ORMP per Loan Status');"
   ]
  },
  {
   "cell_type": "markdown",
   "metadata": {},
   "source": [
    "> ORMP does not seem to demonstrate differeneces in mean ORMP values for completed, defaulted and chargedoff loans - all between $300-350."
   ]
  },
  {
   "cell_type": "markdown",
   "metadata": {},
   "source": [
    "### Talk about some of the relationships you observed in this part of the investigation. How did the feature(s) of interest vary with other features in the dataset?\n",
    "\n",
    "> - Bank card utilization showed a positve correlation with lower credit grades.\n",
    "- Completed loans showed a positive correlation with lower credit ratings while  defaulted and charged-off loans showed the inverse relationship.\n",
    "- Both defaulted and charged-off loans showed debt-to-income ratios above 30% while completed loans were below (~26%).  \n",
    "- Open revolving credit mothly payment does not show a significant difference amongst loan status categories.\n",
    "\n",
    "### Did you observe any interesting relationships between the other features (not the main feature(s) of interest)?\n",
    "\n",
    "> Yes, there was a significant lack of correlation or trend between open revolving mothly payment and loan status.  It was anticipated that the open revolving monthly payments increased loan completion would be much less likely."
   ]
  },
  {
   "cell_type": "markdown",
   "metadata": {},
   "source": [
    "## Multivariate Exploration"
   ]
  },
  {
   "cell_type": "markdown",
   "metadata": {},
   "source": [
    "### Does debt-to-income vary for loan status and credit grade?\n",
    "From previous graphs we know DTI ratio on average is higher for defaulted and charged-off loans but it is unclear how that varies across credit scores.  Since prosper and credit grade scores are similar, credit grade was arbitrarily chosen as the credit ranking system."
   ]
  },
  {
   "cell_type": "code",
   "execution_count": 68,
   "metadata": {},
   "outputs": [
    {
     "data": {
      "image/png": "[encoded data removed]",
      "text/plain": [
       "<matplotlib.figure.Figure at 0x7f0d9de6cb00>"
      ]
     },
     "metadata": {
      "needs_background": "light"
     },
     "output_type": "display_data"
    }
   ],
   "source": [
    "g = sb.FacetGrid(data = status_df, col='LoanStatus', sharey=True)\n",
    "g.map(sb.pointplot, 'CreditGrade', 'DebtToIncomeRatio')\n",
    "g.set_titles('{col_name}')\n",
    "g.fig.subplots_adjust(top=0.8)\n",
    "g.fig.suptitle('Mean DTI Ratio Trends per Loan Status');"
   ]
  },
  {
   "cell_type": "markdown",
   "metadata": {},
   "source": [
    "> In the case of defaulted and charged-off loans, DTI trends down with decreasing credit rating.  This is assumed to be because loan holders with better credit scores tend to recieve high loan amounts.  To check this we plot available bank credit against credit grade."
   ]
  },
  {
   "cell_type": "code",
   "execution_count": 69,
   "metadata": {},
   "outputs": [
    {
     "data": {
      "image/png": "[encoded data removed]",
      "text/plain": [
       "<matplotlib.figure.Figure at 0x7f0d8f155fd0>"
      ]
     },
     "metadata": {
      "needs_background": "light"
     },
     "output_type": "display_data"
    }
   ],
   "source": [
    "g = sb.FacetGrid(data = status_df, col='LoanStatus', sharey=True)\n",
    "g.map(sb.pointplot, 'CreditGrade', 'AvailableBankcardCredit')\n",
    "g.set_titles('{col_name}')\n",
    "g.fig.subplots_adjust(top=0.8)\n",
    "g.fig.suptitle('Mean DTI Ratio Trends per Loan Status');"
   ]
  },
  {
   "cell_type": "markdown",
   "metadata": {},
   "source": [
    "### Talk about some of the relationships you observed in this part of the investigation. Were there features that strengthened each other in terms of looking at your feature(s) of interest?\n",
    "\n",
    "> - The multivariate exploration here shows there was no directional trend when observing completed loan data while \n",
    "- Opposite is true for defaulted and charged off loans.  This occurs because loan holders with better credit scores had large amounts of credit available.\n",
    "- As credit grades increase, available bank card credit increases non-linearly.\n",
    "\n",
    "### Were there any interesting or surprising interactions between features?\n",
    "\n",
    ">  The most interesting observation here was that better credit scores had higher DTI ratios in the defaulted or charged-off loan categories.  This was unexpected since DTI ratios tended to be higher for lower credit scores and lower credit scores tended to default more."
   ]
  },
  {
   "cell_type": "markdown",
   "metadata": {},
   "source": [
    "## Conclusions\n",
    "> Findings showed that in general, DTI and credit score was a good indicator of whether or not a loan holder would default. While most loans that were granted were completed (69%) an interesting observation was made showing that loan holders who defaulted and had higher credit scores also had significantly elevated DTI ratios.  This was unexpected considering that DTI vs Loan status visualization showed all mean DTI ratios below 40% for all loan status categories.  This indicates that the model used to grant loans may be allowing much higher DTI ratios for applicants with higher credit scores than their low credit score counterparts.  \n"
   ]
  },
  {
   "cell_type": "markdown",
   "metadata": {},
   "source": [
    "> At the end of your report, make sure that you export the notebook as an\n",
    "html file from the `File > Download as... > HTML or PDF` menu. Make sure you keep\n",
    "track of where the exported file goes, so you can put it in the same folder\n",
    "as this notebook for project submission. Also, make sure you remove all of\n",
    "the quote-formatted guide notes like this one before you finish your report!\n",
    "\n"
   ]
  },
  {
   "cell_type": "code",
   "execution_count": null,
   "metadata": {},
   "outputs": [],
   "source": []
  }
 ],
 "metadata": {
  "kernelspec": {
   "display_name": "Python 3",
   "language": "python",
   "name": "python3"
  },
  "language_info": {
   "codemirror_mode": {
    "name": "ipython",
    "version": 3
   },
   "file_extension": ".py",
   "mimetype": "text/x-python",
   "name": "python",
   "nbconvert_exporter": "python",
   "pygments_lexer": "ipython3",
   "version": "3.6.3"
  }
 },
 "nbformat": 4,
 "nbformat_minor": 2
}
