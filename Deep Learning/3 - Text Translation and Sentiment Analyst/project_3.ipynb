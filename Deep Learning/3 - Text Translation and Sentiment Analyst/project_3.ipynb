{
 "cells": [
  {
   "cell_type": "markdown",
   "metadata": {},
   "source": [
    "# Text Translation and Sentiment Analysis using Transformers"
   ]
  },
  {
   "cell_type": "markdown",
   "metadata": {},
   "source": [
    "## Project Overview:\n",
    "\n",
    "The objective of this project is to analyze the sentiment of movie reviews in three different languages - English, French, and Spanish. We have been given 30 movies, 10 in each language, along with their reviews and synopses in separate CSV files named `movie_reviews_eng.csv`, `movie_reviews_fr.csv`, and `movie_reviews_sp.csv`.\n",
    "\n",
    "- The first step of this project is to convert the French and Spanish reviews and synopses into English. This will allow us to analyze the sentiment of all reviews in the same language. We will be using pre-trained transformers from HuggingFace to achieve this task.\n",
    "\n",
    "- Once the translations are complete, we will create a single dataframe that contains all the movies along with their reviews, synopses, and year of release in all three languages. This dataframe will be used to perform sentiment analysis on the reviews of each movie.\n",
    "\n",
    "- Finally, we will use pretrained transformers from HuggingFace to analyze the sentiment of each review. The sentiment analysis results will be added to the dataframe. The final dataframe will have 30 rows\n",
    "\n",
    "\n",
    "The output of the project will be a CSV file with a header row that includes column names such as **Title**, **Year**, **Synopsis**, **Review**, **Review Sentiment**, and **Original Language**. The **Original Language** column will indicate the language of the review and synopsis (*en/fr/sp*) before translation. The dataframe will consist of 30 rows, with each row corresponding to a movie."
   ]
  },
  {
   "cell_type": "code",
   "execution_count": 1,
   "metadata": {},
   "outputs": [],
   "source": [
    "# imports\n",
    "import pandas as pd\n",
    "from transformers import MarianMTModel, MarianTokenizer\n",
    "from transformers import pipeline"
   ]
  },
  {
   "cell_type": "markdown",
   "metadata": {},
   "source": [
    "### Get data from `.csv` files and then preprocess data"
   ]
  },
  {
   "cell_type": "code",
   "execution_count": 2,
   "metadata": {},
   "outputs": [],
   "source": [
    "# use the `pd.read_csv()` function to read the movie_review_*.csv files into 3 separate pandas dataframes\n",
    "\n",
    "# Note: All the dataframes would have different column names. For testing purposes\n",
    "# you should have the following column names/headers -> [Title, Year, Synopsis, Review]\n",
    "\n",
    "def preprocess_data() -> pd.DataFrame:\n",
    "    \"\"\"\n",
    "    Reads movie data from .csv files, map column names, add the \"Original Language\" column,\n",
    "    and finally concatenate in one resultant dataframe called \"df\".\n",
    "    \"\"\"\n",
    "    df_eng = pd.read_csv(\"data/movie_reviews_eng.csv\")\n",
    "    df_eng['Original Language'] = 'english'\n",
    "    df_fr = pd.read_csv(\"data/movie_reviews_fr.csv\")\n",
    "    df_fr['Original Language'] = 'french'\n",
    "    df_sp = pd.read_csv(\"data/movie_reviews_sp.csv\")\n",
    "    df_sp['Original Language'] = 'spanish'\n",
    "    \n",
    "    df_fr.columns =  df_eng.columns\n",
    "    df_sp.columns = df_eng.columns\n",
    "    \n",
    "    \n",
    "    df = pd.concat([df_eng, df_fr, df_sp], axis=0, ignore_index=True).reset_index()\n",
    "    df['Review'] = df.Review.str.replace('\"', '')\n",
    "\n",
    "    return df\n",
    "\n",
    "df = preprocess_data()"
   ]
  },
  {
   "cell_type": "code",
   "execution_count": 3,
   "metadata": {},
   "outputs": [
    {
     "data": {
      "text/html": [
       "<div>\n",
       "<style scoped>\n",
       "    .dataframe tbody tr th:only-of-type {\n",
       "        vertical-align: middle;\n",
       "    }\n",
       "\n",
       "    .dataframe tbody tr th {\n",
       "        vertical-align: top;\n",
       "    }\n",
       "\n",
       "    .dataframe thead th {\n",
       "        text-align: right;\n",
       "    }\n",
       "</style>\n",
       "<table border=\"1\" class=\"dataframe\">\n",
       "  <thead>\n",
       "    <tr style=\"text-align: right;\">\n",
       "      <th></th>\n",
       "      <th>index</th>\n",
       "      <th>Movie / TV Series</th>\n",
       "      <th>Year</th>\n",
       "      <th>Synopsis</th>\n",
       "      <th>Review</th>\n",
       "      <th>Original Language</th>\n",
       "    </tr>\n",
       "  </thead>\n",
       "  <tbody>\n",
       "    <tr>\n",
       "      <th>24</th>\n",
       "      <td>24</td>\n",
       "      <td>Amores perros</td>\n",
       "      <td>2000</td>\n",
       "      <td>Tres historias se entrelazan en esta película ...</td>\n",
       "      <td>Amores perros es una película intensa y conmov...</td>\n",
       "      <td>spanish</td>\n",
       "    </tr>\n",
       "    <tr>\n",
       "      <th>19</th>\n",
       "      <td>19</td>\n",
       "      <td>Babylon A.D.</td>\n",
       "      <td>2008</td>\n",
       "      <td>Dans un futur lointain, un mercenaire doit esc...</td>\n",
       "      <td>Ce film est un gâchis complet. Les personnages...</td>\n",
       "      <td>french</td>\n",
       "    </tr>\n",
       "    <tr>\n",
       "      <th>3</th>\n",
       "      <td>3</td>\n",
       "      <td>The Godfather</td>\n",
       "      <td>1972</td>\n",
       "      <td>Don Vito Corleone (Marlon Brando) is the head ...</td>\n",
       "      <td>The Godfather is a classic movie that stands t...</td>\n",
       "      <td>english</td>\n",
       "    </tr>\n",
       "    <tr>\n",
       "      <th>9</th>\n",
       "      <td>9</td>\n",
       "      <td>The Island</td>\n",
       "      <td>2005</td>\n",
       "      <td>In a future where people are cloned for organ ...</td>\n",
       "      <td>The Island is a bland and forgettable sci-fi t...</td>\n",
       "      <td>english</td>\n",
       "    </tr>\n",
       "    <tr>\n",
       "      <th>25</th>\n",
       "      <td>25</td>\n",
       "      <td>Águila Roja</td>\n",
       "      <td>(2009-2016)</td>\n",
       "      <td>Esta serie de televisión española sigue las av...</td>\n",
       "      <td>Águila Roja es una serie aburrida y poco inter...</td>\n",
       "      <td>spanish</td>\n",
       "    </tr>\n",
       "    <tr>\n",
       "      <th>1</th>\n",
       "      <td>1</td>\n",
       "      <td>The Dark Knight</td>\n",
       "      <td>2008</td>\n",
       "      <td>Batman (Christian Bale) teams up with District...</td>\n",
       "      <td>The Dark Knight is a thrilling and intense sup...</td>\n",
       "      <td>english</td>\n",
       "    </tr>\n",
       "    <tr>\n",
       "      <th>20</th>\n",
       "      <td>20</td>\n",
       "      <td>Roma</td>\n",
       "      <td>2018</td>\n",
       "      <td>Cleo (Yalitza Aparicio) es una joven empleada ...</td>\n",
       "      <td>Roma es una película hermosa y conmovedora que...</td>\n",
       "      <td>spanish</td>\n",
       "    </tr>\n",
       "    <tr>\n",
       "      <th>18</th>\n",
       "      <td>18</td>\n",
       "      <td>Les Visiteurs en Amérique</td>\n",
       "      <td>2000</td>\n",
       "      <td>Dans cette suite de la comédie française Les V...</td>\n",
       "      <td>Le film est une perte de temps totale. Les bla...</td>\n",
       "      <td>french</td>\n",
       "    </tr>\n",
       "    <tr>\n",
       "      <th>10</th>\n",
       "      <td>10</td>\n",
       "      <td>La La Land</td>\n",
       "      <td>2016</td>\n",
       "      <td>Cette comédie musicale raconte l'histoire d'un...</td>\n",
       "      <td>La La Land est un film absolument magnifique a...</td>\n",
       "      <td>french</td>\n",
       "    </tr>\n",
       "    <tr>\n",
       "      <th>16</th>\n",
       "      <td>16</td>\n",
       "      <td>La Tour Montparnasse Infernale</td>\n",
       "      <td>2001</td>\n",
       "      <td>Deux employés de bureau incompétents se retrou...</td>\n",
       "      <td>Je ne peux pas croire que j'ai perdu du temps ...</td>\n",
       "      <td>french</td>\n",
       "    </tr>\n",
       "  </tbody>\n",
       "</table>\n",
       "</div>"
      ],
      "text/plain": [
       "    index               Movie / TV Series         Year  \\\n",
       "24     24                   Amores perros         2000   \n",
       "19     19                    Babylon A.D.         2008   \n",
       "3       3                  The Godfather          1972   \n",
       "9       9                      The Island         2005   \n",
       "25     25                    Águila Roja   (2009-2016)   \n",
       "1       1                The Dark Knight          2008   \n",
       "20     20                            Roma         2018   \n",
       "18     18       Les Visiteurs en Amérique         2000   \n",
       "10     10                      La La Land         2016   \n",
       "16     16  La Tour Montparnasse Infernale         2001   \n",
       "\n",
       "                                             Synopsis  \\\n",
       "24  Tres historias se entrelazan en esta película ...   \n",
       "19  Dans un futur lointain, un mercenaire doit esc...   \n",
       "3   Don Vito Corleone (Marlon Brando) is the head ...   \n",
       "9   In a future where people are cloned for organ ...   \n",
       "25  Esta serie de televisión española sigue las av...   \n",
       "1   Batman (Christian Bale) teams up with District...   \n",
       "20  Cleo (Yalitza Aparicio) es una joven empleada ...   \n",
       "18  Dans cette suite de la comédie française Les V...   \n",
       "10  Cette comédie musicale raconte l'histoire d'un...   \n",
       "16  Deux employés de bureau incompétents se retrou...   \n",
       "\n",
       "                                               Review Original Language  \n",
       "24  Amores perros es una película intensa y conmov...           spanish  \n",
       "19  Ce film est un gâchis complet. Les personnages...            french  \n",
       "3   The Godfather is a classic movie that stands t...           english  \n",
       "9   The Island is a bland and forgettable sci-fi t...           english  \n",
       "25  Águila Roja es una serie aburrida y poco inter...           spanish  \n",
       "1   The Dark Knight is a thrilling and intense sup...           english  \n",
       "20  Roma es una película hermosa y conmovedora que...           spanish  \n",
       "18  Le film est une perte de temps totale. Les bla...            french  \n",
       "10  La La Land est un film absolument magnifique a...            french  \n",
       "16  Je ne peux pas croire que j'ai perdu du temps ...            french  "
      ]
     },
     "execution_count": 3,
     "metadata": {},
     "output_type": "execute_result"
    }
   ],
   "source": [
    "df.sample(10)"
   ]
  },
  {
   "cell_type": "markdown",
   "metadata": {},
   "source": [
    "### Text translation\n",
    "\n",
    "Translate the **Review** and **Synopsis** column values to English."
   ]
  },
  {
   "cell_type": "code",
   "execution_count": 4,
   "metadata": {},
   "outputs": [
    {
     "data": {
      "application/vnd.jupyter.widget-view+json": {
       "model_id": "4f0199301feb434c9cf3b3a308897acd",
       "version_major": 2,
       "version_minor": 0
      },
      "text/plain": [
       "Downloading (…)lve/main/config.json:   0%|          | 0.00/1.42k [00:00<?, ?B/s]"
      ]
     },
     "metadata": {},
     "output_type": "display_data"
    },
    {
     "data": {
      "application/vnd.jupyter.widget-view+json": {
       "model_id": "24ca34119cb649238adc654576075bf3",
       "version_major": 2,
       "version_minor": 0
      },
      "text/plain": [
       "Downloading pytorch_model.bin:   0%|          | 0.00/301M [00:00<?, ?B/s]"
      ]
     },
     "metadata": {},
     "output_type": "display_data"
    },
    {
     "data": {
      "application/vnd.jupyter.widget-view+json": {
       "model_id": "f3ff8a7635a442df8a817c1be72fcdea",
       "version_major": 2,
       "version_minor": 0
      },
      "text/plain": [
       "Downloading (…)neration_config.json:   0%|          | 0.00/293 [00:00<?, ?B/s]"
      ]
     },
     "metadata": {},
     "output_type": "display_data"
    },
    {
     "data": {
      "application/vnd.jupyter.widget-view+json": {
       "model_id": "4311fbf3b1e94431a533afb21dd4c9da",
       "version_major": 2,
       "version_minor": 0
      },
      "text/plain": [
       "Downloading (…)lve/main/config.json:   0%|          | 0.00/1.44k [00:00<?, ?B/s]"
      ]
     },
     "metadata": {},
     "output_type": "display_data"
    },
    {
     "data": {
      "application/vnd.jupyter.widget-view+json": {
       "model_id": "1a2feb17bd104758945f45cdb6528d37",
       "version_major": 2,
       "version_minor": 0
      },
      "text/plain": [
       "Downloading pytorch_model.bin:   0%|          | 0.00/312M [00:00<?, ?B/s]"
      ]
     },
     "metadata": {},
     "output_type": "display_data"
    },
    {
     "data": {
      "application/vnd.jupyter.widget-view+json": {
       "model_id": "7196295b417b4f48a83d18aebcc8dc34",
       "version_major": 2,
       "version_minor": 0
      },
      "text/plain": [
       "Downloading (…)neration_config.json:   0%|          | 0.00/293 [00:00<?, ?B/s]"
      ]
     },
     "metadata": {},
     "output_type": "display_data"
    },
    {
     "data": {
      "application/vnd.jupyter.widget-view+json": {
       "model_id": "347a60a84c9f44149fad1d6b454210d0",
       "version_major": 2,
       "version_minor": 0
      },
      "text/plain": [
       "Downloading (…)olve/main/source.spm:   0%|          | 0.00/802k [00:00<?, ?B/s]"
      ]
     },
     "metadata": {},
     "output_type": "display_data"
    },
    {
     "data": {
      "application/vnd.jupyter.widget-view+json": {
       "model_id": "919fbff486f84acc944871dd5a1b9531",
       "version_major": 2,
       "version_minor": 0
      },
      "text/plain": [
       "Downloading (…)olve/main/target.spm:   0%|          | 0.00/778k [00:00<?, ?B/s]"
      ]
     },
     "metadata": {},
     "output_type": "display_data"
    },
    {
     "data": {
      "application/vnd.jupyter.widget-view+json": {
       "model_id": "0dda5598bd554fde80f70ccadc4f66d5",
       "version_major": 2,
       "version_minor": 0
      },
      "text/plain": [
       "Downloading (…)olve/main/vocab.json:   0%|          | 0.00/1.34M [00:00<?, ?B/s]"
      ]
     },
     "metadata": {},
     "output_type": "display_data"
    },
    {
     "data": {
      "application/vnd.jupyter.widget-view+json": {
       "model_id": "8cff18911ab549769eb217f5fca5cb9a",
       "version_major": 2,
       "version_minor": 0
      },
      "text/plain": [
       "Downloading (…)okenizer_config.json:   0%|          | 0.00/42.0 [00:00<?, ?B/s]"
      ]
     },
     "metadata": {},
     "output_type": "display_data"
    },
    {
     "name": "stderr",
     "output_type": "stream",
     "text": [
      "/opt/venv/lib/python3.10/site-packages/transformers/models/marian/tokenization_marian.py:194: UserWarning: Recommended: pip install sacremoses.\n",
      "  warnings.warn(\"Recommended: pip install sacremoses.\")\n"
     ]
    },
    {
     "data": {
      "application/vnd.jupyter.widget-view+json": {
       "model_id": "1b455b37781f480e97b1ffe447e1add9",
       "version_major": 2,
       "version_minor": 0
      },
      "text/plain": [
       "Downloading (…)olve/main/source.spm:   0%|          | 0.00/826k [00:00<?, ?B/s]"
      ]
     },
     "metadata": {},
     "output_type": "display_data"
    },
    {
     "data": {
      "application/vnd.jupyter.widget-view+json": {
       "model_id": "2806e5253a234b689a54689285564018",
       "version_major": 2,
       "version_minor": 0
      },
      "text/plain": [
       "Downloading (…)olve/main/target.spm:   0%|          | 0.00/802k [00:00<?, ?B/s]"
      ]
     },
     "metadata": {},
     "output_type": "display_data"
    },
    {
     "data": {
      "application/vnd.jupyter.widget-view+json": {
       "model_id": "50792e3b6d934bcbb099f52ff181c51b",
       "version_major": 2,
       "version_minor": 0
      },
      "text/plain": [
       "Downloading (…)olve/main/vocab.json:   0%|          | 0.00/1.59M [00:00<?, ?B/s]"
      ]
     },
     "metadata": {},
     "output_type": "display_data"
    },
    {
     "data": {
      "application/vnd.jupyter.widget-view+json": {
       "model_id": "865677fbd4c44eb48581e8a09403b3a7",
       "version_major": 2,
       "version_minor": 0
      },
      "text/plain": [
       "Downloading (…)okenizer_config.json:   0%|          | 0.00/44.0 [00:00<?, ?B/s]"
      ]
     },
     "metadata": {},
     "output_type": "display_data"
    }
   ],
   "source": [
    "from transformers import MarianMTModel, MarianTokenizer\n",
    "\n",
    "\n",
    "fr_en_model_name = \"Helsinki-NLP/opus-mt-fr-en\"\n",
    "es_en_model_name = \"Helsinki-NLP/opus-mt-es-en\"\n",
    "fr_en_model = MarianMTModel.from_pretrained(fr_en_model_name)\n",
    "es_en_model = MarianMTModel.from_pretrained(es_en_model_name)\n",
    "fr_en_tokenizer = MarianTokenizer.from_pretrained(fr_en_model_name)\n",
    "es_en_tokenizer = MarianTokenizer.from_pretrained(es_en_model_name)"
   ]
  },
  {
   "cell_type": "code",
   "execution_count": 5,
   "metadata": {},
   "outputs": [],
   "source": [
    "def translate(text: str, model, tokenizer) -> str:\n",
    "    \"\"\"\n",
    "    function to translate a text using a model and tokenizer\n",
    "    \"\"\"    \n",
    "    # encode the text using the tokenizer\n",
    "    inputs = tokenizer.batch_encode_plus(text, return_tensors=\"pt\", padding=True)\n",
    "    \n",
    "    # generate the translation using the model\n",
    "    outputs = model.generate(inputs['input_ids'], max_new_tokens=512)\n",
    "\n",
    "    # decode the generated output and return the translated text\n",
    "    decoded = tokenizer.batch_decode(outputs, skip_special_tokens=True)\n",
    "    return decoded"
   ]
  },
  {
   "cell_type": "code",
   "execution_count": 6,
   "metadata": {},
   "outputs": [],
   "source": [
    "# filter reviews in French and translate to English\n",
    "fr_reviews = df[df[\"Original Language\"] == 'french'].Review.to_list()\n",
    "fr_reviews_en = translate(fr_reviews, fr_en_model, fr_en_tokenizer)\n",
    "\n",
    "# filter synopsis in French and translate to English\n",
    "fr_synopsis = df[df[\"Original Language\"] == 'french'].Synopsis.to_list()\n",
    "fr_synopsis_en = translate(fr_synopsis, fr_en_model, fr_en_tokenizer)\n",
    "\n",
    "# filter reviews in Spanish and translate to English\n",
    "es_reviews = df[df[\"Original Language\"] == 'spanish'].Review.to_list()\n",
    "es_reviews_en = translate(es_reviews, es_en_model, es_en_tokenizer)\n",
    "\n",
    "# filter synopsis in Spanish and translate to English\n",
    "es_synopsis = df[df[\"Original Language\"] == 'spanish'].Synopsis.to_list()\n",
    "es_synopsis_en = translate(es_synopsis, es_en_model, es_en_tokenizer)\n"
   ]
  },
  {
   "cell_type": "code",
   "execution_count": 7,
   "metadata": {},
   "outputs": [],
   "source": [
    "# update dataframe with translated text\n",
    "# add the translated reviews and synopsis\n",
    "\n",
    "fr_reviews = fr_reviews_en\n",
    "df.loc[df[\"Original Language\"] == 'french', 'Review'] = fr_reviews\n",
    "\n",
    "fr_synopsis = fr_synopsis_en\n",
    "df.loc[df[\"Original Language\"] == 'french', 'Synopsis'] = fr_synopsis\n",
    "\n",
    "es_reviews = es_reviews_en\n",
    "df.loc[df[\"Original Language\"] == 'spanish', 'Review'] = es_reviews\n",
    "\n",
    "es_synopsis = es_synopsis_en\n",
    "df.loc[df[\"Original Language\"] == 'spanish', 'Synopsis'] = es_synopsis"
   ]
  },
  {
   "cell_type": "code",
   "execution_count": 8,
   "metadata": {},
   "outputs": [],
   "source": [
    "df.drop(columns='index', inplace=True)"
   ]
  },
  {
   "cell_type": "code",
   "execution_count": 9,
   "metadata": {},
   "outputs": [
    {
     "data": {
      "text/html": [
       "<div>\n",
       "<style scoped>\n",
       "    .dataframe tbody tr th:only-of-type {\n",
       "        vertical-align: middle;\n",
       "    }\n",
       "\n",
       "    .dataframe tbody tr th {\n",
       "        vertical-align: top;\n",
       "    }\n",
       "\n",
       "    .dataframe thead th {\n",
       "        text-align: right;\n",
       "    }\n",
       "</style>\n",
       "<table border=\"1\" class=\"dataframe\">\n",
       "  <thead>\n",
       "    <tr style=\"text-align: right;\">\n",
       "      <th></th>\n",
       "      <th>Movie / TV Series</th>\n",
       "      <th>Year</th>\n",
       "      <th>Synopsis</th>\n",
       "      <th>Review</th>\n",
       "      <th>Original Language</th>\n",
       "    </tr>\n",
       "  </thead>\n",
       "  <tbody>\n",
       "    <tr>\n",
       "      <th>27</th>\n",
       "      <td>El Bar</td>\n",
       "      <td>2017</td>\n",
       "      <td>A group of people are trapped in a bar after M...</td>\n",
       "      <td>The Bar is a ridiculous and meaningless film t...</td>\n",
       "      <td>spanish</td>\n",
       "    </tr>\n",
       "    <tr>\n",
       "      <th>1</th>\n",
       "      <td>The Dark Knight</td>\n",
       "      <td>2008</td>\n",
       "      <td>Batman (Christian Bale) teams up with District...</td>\n",
       "      <td>The Dark Knight is a thrilling and intense sup...</td>\n",
       "      <td>english</td>\n",
       "    </tr>\n",
       "    <tr>\n",
       "      <th>16</th>\n",
       "      <td>La Tour Montparnasse Infernale</td>\n",
       "      <td>2001</td>\n",
       "      <td>Two incompetent office workers find themselves...</td>\n",
       "      <td>I can't believe I've wasted time watching this...</td>\n",
       "      <td>french</td>\n",
       "    </tr>\n",
       "    <tr>\n",
       "      <th>18</th>\n",
       "      <td>Les Visiteurs en Amérique</td>\n",
       "      <td>2000</td>\n",
       "      <td>In this continuation of the French comedy The ...</td>\n",
       "      <td>The film is a total waste of time. The jokes a...</td>\n",
       "      <td>french</td>\n",
       "    </tr>\n",
       "    <tr>\n",
       "      <th>9</th>\n",
       "      <td>The Island</td>\n",
       "      <td>2005</td>\n",
       "      <td>In a future where people are cloned for organ ...</td>\n",
       "      <td>The Island is a bland and forgettable sci-fi t...</td>\n",
       "      <td>english</td>\n",
       "    </tr>\n",
       "    <tr>\n",
       "      <th>21</th>\n",
       "      <td>La Casa de Papel</td>\n",
       "      <td>(2017-2021)</td>\n",
       "      <td>This Spanish television series follows a group...</td>\n",
       "      <td>The Paper House is an exciting and addictive s...</td>\n",
       "      <td>spanish</td>\n",
       "    </tr>\n",
       "    <tr>\n",
       "      <th>6</th>\n",
       "      <td>Scott Pilgrim vs. the World</td>\n",
       "      <td>2010</td>\n",
       "      <td>Scott Pilgrim (Michael Cera) must defeat his n...</td>\n",
       "      <td>It was difficult to sit through the whole thin...</td>\n",
       "      <td>english</td>\n",
       "    </tr>\n",
       "    <tr>\n",
       "      <th>11</th>\n",
       "      <td>Intouchables</td>\n",
       "      <td>2011</td>\n",
       "      <td>This film tells the story of the unlikely frie...</td>\n",
       "      <td>Untouchables is an incredibly touching film wi...</td>\n",
       "      <td>french</td>\n",
       "    </tr>\n",
       "    <tr>\n",
       "      <th>20</th>\n",
       "      <td>Roma</td>\n",
       "      <td>2018</td>\n",
       "      <td>Cleo (Yalitza Aparicio) is a young domestic wo...</td>\n",
       "      <td>Rome is a beautiful and moving film that pays ...</td>\n",
       "      <td>spanish</td>\n",
       "    </tr>\n",
       "    <tr>\n",
       "      <th>12</th>\n",
       "      <td>Amélie</td>\n",
       "      <td>2001</td>\n",
       "      <td>This romantic comedy tells the story of Amélie...</td>\n",
       "      <td>Amélie is an absolutely charming film that wil...</td>\n",
       "      <td>french</td>\n",
       "    </tr>\n",
       "  </tbody>\n",
       "</table>\n",
       "</div>"
      ],
      "text/plain": [
       "                 Movie / TV Series         Year  \\\n",
       "27                          El Bar         2017   \n",
       "1                 The Dark Knight          2008   \n",
       "16  La Tour Montparnasse Infernale         2001   \n",
       "18       Les Visiteurs en Amérique         2000   \n",
       "9                       The Island         2005   \n",
       "21                La Casa de Papel  (2017-2021)   \n",
       "6      Scott Pilgrim vs. the World         2010   \n",
       "11                    Intouchables         2011   \n",
       "20                            Roma         2018   \n",
       "12                          Amélie         2001   \n",
       "\n",
       "                                             Synopsis  \\\n",
       "27  A group of people are trapped in a bar after M...   \n",
       "1   Batman (Christian Bale) teams up with District...   \n",
       "16  Two incompetent office workers find themselves...   \n",
       "18  In this continuation of the French comedy The ...   \n",
       "9   In a future where people are cloned for organ ...   \n",
       "21  This Spanish television series follows a group...   \n",
       "6   Scott Pilgrim (Michael Cera) must defeat his n...   \n",
       "11  This film tells the story of the unlikely frie...   \n",
       "20  Cleo (Yalitza Aparicio) is a young domestic wo...   \n",
       "12  This romantic comedy tells the story of Amélie...   \n",
       "\n",
       "                                               Review Original Language  \n",
       "27  The Bar is a ridiculous and meaningless film t...           spanish  \n",
       "1   The Dark Knight is a thrilling and intense sup...           english  \n",
       "16  I can't believe I've wasted time watching this...            french  \n",
       "18  The film is a total waste of time. The jokes a...            french  \n",
       "9   The Island is a bland and forgettable sci-fi t...           english  \n",
       "21  The Paper House is an exciting and addictive s...           spanish  \n",
       "6   It was difficult to sit through the whole thin...           english  \n",
       "11  Untouchables is an incredibly touching film wi...            french  \n",
       "20  Rome is a beautiful and moving film that pays ...           spanish  \n",
       "12  Amélie is an absolutely charming film that wil...            french  "
      ]
     },
     "execution_count": 9,
     "metadata": {},
     "output_type": "execute_result"
    }
   ],
   "source": [
    "df.sample(10)"
   ]
  },
  {
   "cell_type": "markdown",
   "metadata": {},
   "source": [
    "### Sentiment Analysis\n",
    "\n",
    "Use HuggingFace pretrained model for sentiment analysis of the reviews. Store the sentiment result **Positive** or **Negative** in a new column titled **Sentiment** in the dataframe."
   ]
  },
  {
   "cell_type": "code",
   "execution_count": 12,
   "metadata": {},
   "outputs": [
    {
     "data": {
      "application/vnd.jupyter.widget-view+json": {
       "model_id": "f7bd4b9cc9c9477a98fa825dcd981865",
       "version_major": 2,
       "version_minor": 0
      },
      "text/plain": [
       "Downloading (…)lve/main/config.json:   0%|          | 0.00/483 [00:00<?, ?B/s]"
      ]
     },
     "metadata": {},
     "output_type": "display_data"
    },
    {
     "data": {
      "application/vnd.jupyter.widget-view+json": {
       "model_id": "2178d9af5faa4e8e91f7cedb53c6d5d9",
       "version_major": 2,
       "version_minor": 0
      },
      "text/plain": [
       "Downloading pytorch_model.bin:   0%|          | 0.00/268M [00:00<?, ?B/s]"
      ]
     },
     "metadata": {},
     "output_type": "display_data"
    },
    {
     "name": "stderr",
     "output_type": "stream",
     "text": [
      "Some weights of the model checkpoint at distilbert-base-uncased were not used when initializing DistilBertForSequenceClassification: ['vocab_projector.bias', 'vocab_layer_norm.weight', 'vocab_transform.bias', 'vocab_layer_norm.bias', 'vocab_projector.weight', 'vocab_transform.weight']\n",
      "- This IS expected if you are initializing DistilBertForSequenceClassification from the checkpoint of a model trained on another task or with another architecture (e.g. initializing a BertForSequenceClassification model from a BertForPreTraining model).\n",
      "- This IS NOT expected if you are initializing DistilBertForSequenceClassification from the checkpoint of a model that you expect to be exactly identical (initializing a BertForSequenceClassification model from a BertForSequenceClassification model).\n",
      "Some weights of DistilBertForSequenceClassification were not initialized from the model checkpoint at distilbert-base-uncased and are newly initialized: ['classifier.bias', 'pre_classifier.bias', 'classifier.weight', 'pre_classifier.weight']\n",
      "You should probably TRAIN this model on a down-stream task to be able to use it for predictions and inference.\n"
     ]
    },
    {
     "data": {
      "application/vnd.jupyter.widget-view+json": {
       "model_id": "e4bff1d090a743b79ac91310251f003d",
       "version_major": 2,
       "version_minor": 0
      },
      "text/plain": [
       "Downloading (…)okenizer_config.json:   0%|          | 0.00/28.0 [00:00<?, ?B/s]"
      ]
     },
     "metadata": {},
     "output_type": "display_data"
    },
    {
     "data": {
      "application/vnd.jupyter.widget-view+json": {
       "model_id": "686d43a64161462383c6114ce72ae246",
       "version_major": 2,
       "version_minor": 0
      },
      "text/plain": [
       "Downloading (…)solve/main/vocab.txt:   0%|          | 0.00/232k [00:00<?, ?B/s]"
      ]
     },
     "metadata": {},
     "output_type": "display_data"
    },
    {
     "data": {
      "application/vnd.jupyter.widget-view+json": {
       "model_id": "96a7882faf854a24895481aa3bcb2225",
       "version_major": 2,
       "version_minor": 0
      },
      "text/plain": [
       "Downloading (…)/main/tokenizer.json:   0%|          | 0.00/466k [00:00<?, ?B/s]"
      ]
     },
     "metadata": {},
     "output_type": "display_data"
    }
   ],
   "source": [
    "from transformers import AutoTokenizer, AutoModelForSequenceClassification\n",
    "from transformers import pipeline\n",
    "model_name = \"distilbert-base-uncased\"\n",
    "sentiment_classifier = pipeline('text-classification', model=model_name) #\"automatic-speech-recognition\", model=model_name)"
   ]
  },
  {
   "cell_type": "code",
   "execution_count": 14,
   "metadata": {},
   "outputs": [],
   "source": [
    "def analyze_sentiment(text, classifier):\n",
    "    \"\"\"\n",
    "    function to perform sentiment analysis on a text using a model\n",
    "    \"\"\"\n",
    "    return classifier(text)"
   ]
  },
  {
   "cell_type": "code",
   "execution_count": 15,
   "metadata": {},
   "outputs": [],
   "source": [
    "# perform sentiment analysis on reviews and store results in new column\n",
    "sentiment = pd.DataFrame(analyze_sentiment(df.Review.tolist(), sentiment_classifier))"
   ]
  },
  {
   "cell_type": "code",
   "execution_count": 16,
   "metadata": {},
   "outputs": [
    {
     "data": {
      "text/html": [
       "<div>\n",
       "<style scoped>\n",
       "    .dataframe tbody tr th:only-of-type {\n",
       "        vertical-align: middle;\n",
       "    }\n",
       "\n",
       "    .dataframe tbody tr th {\n",
       "        vertical-align: top;\n",
       "    }\n",
       "\n",
       "    .dataframe thead th {\n",
       "        text-align: right;\n",
       "    }\n",
       "</style>\n",
       "<table border=\"1\" class=\"dataframe\">\n",
       "  <thead>\n",
       "    <tr style=\"text-align: right;\">\n",
       "      <th></th>\n",
       "      <th>Movie / TV Series</th>\n",
       "      <th>Year</th>\n",
       "      <th>Synopsis</th>\n",
       "      <th>Review</th>\n",
       "      <th>Original Language</th>\n",
       "      <th>label</th>\n",
       "      <th>score</th>\n",
       "    </tr>\n",
       "  </thead>\n",
       "  <tbody>\n",
       "    <tr>\n",
       "      <th>28</th>\n",
       "      <td>Torrente: El brazo tonto de la ley</td>\n",
       "      <td>1998</td>\n",
       "      <td>In this Spanish comedy, a corrupt cop (played ...</td>\n",
       "      <td>Torrente is a vulgar and offensive film that a...</td>\n",
       "      <td>spanish</td>\n",
       "      <td>NEGATIVE</td>\n",
       "      <td>0.999751</td>\n",
       "    </tr>\n",
       "    <tr>\n",
       "      <th>20</th>\n",
       "      <td>Roma</td>\n",
       "      <td>2018</td>\n",
       "      <td>Cleo (Yalitza Aparicio) is a young domestic wo...</td>\n",
       "      <td>Rome is a beautiful and moving film that pays ...</td>\n",
       "      <td>spanish</td>\n",
       "      <td>POSITIVE</td>\n",
       "      <td>0.999882</td>\n",
       "    </tr>\n",
       "    <tr>\n",
       "      <th>12</th>\n",
       "      <td>Amélie</td>\n",
       "      <td>2001</td>\n",
       "      <td>This romantic comedy tells the story of Amélie...</td>\n",
       "      <td>Amélie is an absolutely charming film that wil...</td>\n",
       "      <td>french</td>\n",
       "      <td>POSITIVE</td>\n",
       "      <td>0.999892</td>\n",
       "    </tr>\n",
       "    <tr>\n",
       "      <th>17</th>\n",
       "      <td>Astérix aux Jeux Olympiques</td>\n",
       "      <td>2008</td>\n",
       "      <td>In this film adaptation of the popular comic s...</td>\n",
       "      <td>This film is a complete disappointment. The jo...</td>\n",
       "      <td>french</td>\n",
       "      <td>NEGATIVE</td>\n",
       "      <td>0.999774</td>\n",
       "    </tr>\n",
       "    <tr>\n",
       "      <th>8</th>\n",
       "      <td>Solo: A Star Wars Story</td>\n",
       "      <td>2018</td>\n",
       "      <td>A young Han Solo (Alden Ehrenreich) joins a gr...</td>\n",
       "      <td>Dull and pointless, with none of the magic of ...</td>\n",
       "      <td>english</td>\n",
       "      <td>NEGATIVE</td>\n",
       "      <td>0.999795</td>\n",
       "    </tr>\n",
       "    <tr>\n",
       "      <th>23</th>\n",
       "      <td>El Laberinto del Fauno</td>\n",
       "      <td>2006</td>\n",
       "      <td>During the Spanish postwar period, Ofelia (Iva...</td>\n",
       "      <td>The Labyrinth of Fauno is a fascinating and em...</td>\n",
       "      <td>spanish</td>\n",
       "      <td>POSITIVE</td>\n",
       "      <td>0.999873</td>\n",
       "    </tr>\n",
       "    <tr>\n",
       "      <th>10</th>\n",
       "      <td>La La Land</td>\n",
       "      <td>2016</td>\n",
       "      <td>This musical tells the story of a budding actr...</td>\n",
       "      <td>La Land is an absolutely beautiful film with s...</td>\n",
       "      <td>french</td>\n",
       "      <td>POSITIVE</td>\n",
       "      <td>0.999891</td>\n",
       "    </tr>\n",
       "    <tr>\n",
       "      <th>7</th>\n",
       "      <td>The Nice Guys</td>\n",
       "      <td>2016</td>\n",
       "      <td>In 1970s Los Angeles, a private eye (Ryan Gosl...</td>\n",
       "      <td>The Nice Guys tries too hard to be funny, and ...</td>\n",
       "      <td>english</td>\n",
       "      <td>NEGATIVE</td>\n",
       "      <td>0.999796</td>\n",
       "    </tr>\n",
       "    <tr>\n",
       "      <th>15</th>\n",
       "      <td>Le Dîner de Cons</td>\n",
       "      <td>1998</td>\n",
       "      <td>The film follows the story of a group of rich ...</td>\n",
       "      <td>I didn't like this movie at all. The concept o...</td>\n",
       "      <td>french</td>\n",
       "      <td>NEGATIVE</td>\n",
       "      <td>0.999644</td>\n",
       "    </tr>\n",
       "    <tr>\n",
       "      <th>11</th>\n",
       "      <td>Intouchables</td>\n",
       "      <td>2011</td>\n",
       "      <td>This film tells the story of the unlikely frie...</td>\n",
       "      <td>Untouchables is an incredibly touching film wi...</td>\n",
       "      <td>french</td>\n",
       "      <td>POSITIVE</td>\n",
       "      <td>0.999877</td>\n",
       "    </tr>\n",
       "  </tbody>\n",
       "</table>\n",
       "</div>"
      ],
      "text/plain": [
       "                     Movie / TV Series  Year  \\\n",
       "28  Torrente: El brazo tonto de la ley  1998   \n",
       "20                                Roma  2018   \n",
       "12                              Amélie  2001   \n",
       "17         Astérix aux Jeux Olympiques  2008   \n",
       "8              Solo: A Star Wars Story  2018   \n",
       "23              El Laberinto del Fauno  2006   \n",
       "10                          La La Land  2016   \n",
       "7                        The Nice Guys  2016   \n",
       "15                    Le Dîner de Cons  1998   \n",
       "11                        Intouchables  2011   \n",
       "\n",
       "                                             Synopsis  \\\n",
       "28  In this Spanish comedy, a corrupt cop (played ...   \n",
       "20  Cleo (Yalitza Aparicio) is a young domestic wo...   \n",
       "12  This romantic comedy tells the story of Amélie...   \n",
       "17  In this film adaptation of the popular comic s...   \n",
       "8   A young Han Solo (Alden Ehrenreich) joins a gr...   \n",
       "23  During the Spanish postwar period, Ofelia (Iva...   \n",
       "10  This musical tells the story of a budding actr...   \n",
       "7   In 1970s Los Angeles, a private eye (Ryan Gosl...   \n",
       "15  The film follows the story of a group of rich ...   \n",
       "11  This film tells the story of the unlikely frie...   \n",
       "\n",
       "                                               Review Original Language  \\\n",
       "28  Torrente is a vulgar and offensive film that a...           spanish   \n",
       "20  Rome is a beautiful and moving film that pays ...           spanish   \n",
       "12  Amélie is an absolutely charming film that wil...            french   \n",
       "17  This film is a complete disappointment. The jo...            french   \n",
       "8   Dull and pointless, with none of the magic of ...           english   \n",
       "23  The Labyrinth of Fauno is a fascinating and em...           spanish   \n",
       "10  La Land is an absolutely beautiful film with s...            french   \n",
       "7   The Nice Guys tries too hard to be funny, and ...           english   \n",
       "15  I didn't like this movie at all. The concept o...            french   \n",
       "11  Untouchables is an incredibly touching film wi...            french   \n",
       "\n",
       "       label     score  \n",
       "28  NEGATIVE  0.999751  \n",
       "20  POSITIVE  0.999882  \n",
       "12  POSITIVE  0.999892  \n",
       "17  NEGATIVE  0.999774  \n",
       "8   NEGATIVE  0.999795  \n",
       "23  POSITIVE  0.999873  \n",
       "10  POSITIVE  0.999891  \n",
       "7   NEGATIVE  0.999796  \n",
       "15  NEGATIVE  0.999644  \n",
       "11  POSITIVE  0.999877  "
      ]
     },
     "execution_count": 16,
     "metadata": {},
     "output_type": "execute_result"
    }
   ],
   "source": [
    "df = pd.concat([df, sentiment], axis=1)\n",
    "df.sample(10)"
   ]
  },
  {
   "cell_type": "code",
   "execution_count": 17,
   "metadata": {},
   "outputs": [],
   "source": [
    "# export the results to a .csv file\n",
    "df.to_csv(\"./result/reviews_with_sentiment.csv\", index=False)"
   ]
  },
  {
   "cell_type": "code",
   "execution_count": null,
   "metadata": {},
   "outputs": [],
   "source": []
  }
 ],
 "metadata": {
  "kernelspec": {
   "display_name": "Python 3 (ipykernel)",
   "language": "python",
   "name": "python3"
  },
  "language_info": {
   "codemirror_mode": {
    "name": "ipython",
    "version": 3
   },
   "file_extension": ".py",
   "mimetype": "text/x-python",
   "name": "python",
   "nbconvert_exporter": "python",
   "pygments_lexer": "ipython3",
   "version": "3.10.11"
  }
 },
 "nbformat": 4,
 "nbformat_minor": 1
}
